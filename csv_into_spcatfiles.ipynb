{
 "cells": [
  {
   "cell_type": "markdown",
   "metadata": {},
   "source": [
    "In this, we will parse a sample csv file from machine learning results and make spcat files. I don't provide one yet, but hopefully will do so before end of 2025.\n",
    "\n",
    "this code is VERY CLUNKY and will do with some upgrading in upcoming months. it's amongst the first i wrote EVER, but hopefully i will refine it in upcoming months. It'll have to do for now!"
   ]
  },
  {
   "cell_type": "code",
   "execution_count": null,
   "metadata": {},
   "outputs": [],
   "source": [
    "import csv\n",
    "\n",
    "with open('dataset.csv', mode='r') as file:\n",
    "    csvFile=csv.DictReader(file)\n",
    "    \n",
    "    listy = list(csvFile) "
   ]
  },
  {
   "cell_type": "code",
   "execution_count": null,
   "metadata": {},
   "outputs": [],
   "source": [
    "#this part on is in order to put all the relevant info into a text file. \n",
    "#however, I will keep on using previous list of dictionaries in\n",
    "\n",
    "formula =[]\n",
    "for i in listy:\n",
    "    formy=i['Formula']\n",
    "    formula.append(formy)\n",
    "#print(formula)\n",
    "\n",
    "rota =[]\n",
    "for i in listy:\n",
    "    rotya=i['A']\n",
    "    rota.append(rotya)\n",
    "# print(rota)\n",
    "\n",
    "rotb =[]\n",
    "for i in listy:\n",
    "    rotyb=i['B']\n",
    "    rotb.append(rotyb)\n",
    "# print(rotb)\n",
    "\n",
    "rotc =[]\n",
    "for i in listy:\n",
    "    rotyc=i['C']\n",
    "    rotc.append(rotyc)\n",
    "# print(rotc)\n",
    "\n",
    "mua = []\n",
    "for j in listy:\n",
    "    muay = j['mu_a']\n",
    "    mua.append(muay)\n",
    "print(mua)\n",
    "\n",
    "mub = []\n",
    "for k in listy:\n",
    "    muby = k['mu_b']\n",
    "    mub.append(muby)\n",
    "# print(mub)\n",
    "\n",
    "muc = []\n",
    "for i in listy:\n",
    "    mucy = i['mu_c']\n",
    "    muc.append(mucy)\n",
    "    \n",
    "intSmile=[]\n",
    "for i in listy:\n",
    "    intsmiley=i['internal_smi']\n",
    "    intSmile.append(intsmiley)\n",
    "    \n",
    "abInitCalc  =[]\n",
    "for i in listy:\n",
    "    abi = i['not_opt']\n",
    "    abInitCalc.append(abi)\n",
    "\n",
    "\n",
    "\n",
    "\n",
    "\n",
    "with open('ParseResultsChecktext', mode='w') as f:\n",
    "\n",
    "    for fo, ua, ub, uc, a, b, c, abIni in zip(formula, mua, mub, muc, rota, rotb, rotc, abInitCalc):\n",
    "        f.write(f'formula:{fo}, mua:{ua}, mub:{ub}, muc:{uc}, A:{a}, B:{b}, C:{c}, abInitCalc \\n')"
   ]
  },
  {
   "cell_type": "markdown",
   "metadata": {},
   "source": [
    "now, make a folder and go into it. this is where you'll put all your spcat files."
   ]
  },
  {
   "cell_type": "code",
   "execution_count": null,
   "metadata": {},
   "outputs": [],
   "source": [
    "baseintfile = \"\"\"name/title\n",
    "0  1  1312  00  200  -10  -10 300.0  300\n",
    " 001  0.1947\n",
    " 002  -3.3752\n",
    " 003  1.1111\n",
    "\"\"\""
   ]
  },
  {
   "cell_type": "code",
   "execution_count": null,
   "metadata": {},
   "outputs": [],
   "source": [
    "\n",
    "listValue = [d['list_place'] for d in listy] #this calls all the objects associated with \"list_place\" k"
   ]
  },
  {
   "cell_type": "code",
   "execution_count": null,
   "metadata": {},
   "outputs": [],
   "source": [
    "\n",
    "for i in range(len(listValue)):\n",
    "    with open(\"./dataset_spcatfiles/%d.int\" % i, 'w') as f:\n",
    "    \n",
    "\n",
    "        f.write(baseintfile)"
   ]
  },
  {
   "cell_type": "code",
   "execution_count": null,
   "metadata": {},
   "outputs": [],
   "source": [
    "baseVarFile = \"\"\"title/name                                     WedThu MaWed Feb 09 18:28:28 2022\n",
    "   8   33   40    0     0.0000E+00     5.0000E+20     1.0000E+00 1.0000000000\n",
    "s   1  1  0  50  0  1  1  1  1  -1   0\n",
    "        10000   0.000000000000000E+03 1.00000000E-37 /A\n",
    "        20000   0.000000000000000E+03 1.00000000E-37 /B\n",
    "        30000   0.000000000000000E+03 1.00000000E-37 /C\"\"\""
   ]
  }
 ],
 "metadata": {
  "kernelspec": {
   "display_name": "Python 3",
   "language": "python",
   "name": "python3"
  },
  "language_info": {
   "codemirror_mode": {
    "name": "ipython",
    "version": 3
   },
   "file_extension": ".py",
   "mimetype": "text/x-python",
   "name": "python",
   "nbconvert_exporter": "python",
   "pygments_lexer": "ipython3",
   "version": "3.7.11"
  }
 },
 "nbformat": 4,
 "nbformat_minor": 2
}

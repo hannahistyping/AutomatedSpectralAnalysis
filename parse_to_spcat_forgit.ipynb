{
 "cells": [
  {
   "cell_type": "markdown",
   "metadata": {},
   "source": [
    "so this is the followup CSVParse in its current iteration as of June 14, 2022. As of now,  CSVParse jupyter notebook functions as the initial .csv parsing, which puts every row as a dictionary into a list. as a check, items on the list are put into variables and printed onto a text file which is used as a \"check.\" finally, base .int and .var files are created in a for loop, with one of each per molecule. the numbers of each file are associated with the key \"list_value\" in the original .csv."
   ]
  },
  {
   "cell_type": "markdown",
   "metadata": {},
   "source": [
    "from here, I need to modify parts of the .int and .var files to the correct, ML-predicted rotational constants and dipole moments and run it. "
   ]
  },
  {
   "cell_type": "markdown",
   "metadata": {},
   "source": [
    "instead of attempting to just get dictionaries, I'm just gonna repeat the command initially lol. at some point i'm going to want to be able to automate so that once last code is done, i do this. later hannah's problem tho\n"
   ]
  },
  {
   "cell_type": "markdown",
   "metadata": {},
   "source": [
    "The point of this is to take the spcat files made in the CSVParse script and modify each so that it contains the values from the summary.csv files. "
   ]
  },
  {
   "cell_type": "markdown",
   "metadata": {},
   "source": [
    "# comments as of uploading:\n",
    "this file has a few roles. It parses your summary file, and inputs the information (ML generated and quantum calc generated) into individual .int and .var files. We then run spcat on it at 300K, with dummy variables. Running it once allows it to get the more accurate partition functions, which this file then goes through the .int/.var files to replace, and then runs spcat again. finally, that spcat is \"correct\" and it creates a qpart file from the results. \n",
    "\n",
    "those are used later in molsim."
   ]
  },
  {
   "cell_type": "code",
   "execution_count": null,
   "metadata": {},
   "outputs": [],
   "source": [
    "import csv\n",
    "import os"
   ]
  },
  {
   "cell_type": "markdown",
   "metadata": {},
   "source": [
    "get to your .csv file! recall that this should be the full ML results, including quantum chem calcs. "
   ]
  },
  {
   "cell_type": "code",
   "execution_count": null,
   "metadata": {},
   "outputs": [],
   "source": [
    " \n",
    "# opening the CSV file\n",
    "with open('path_to_csv.csv', mode ='r') as file: \n",
    "    csvFile=csv.DictReader(file)\n",
    "    \n",
    "    listy = list(csvFile) \n",
    "    "
   ]
  },
  {
   "cell_type": "markdown",
   "metadata": {},
   "source": [
    "IMPORTANT NOTE: if you begin to see errors such as \"index out of range\" this is likely an issue in the original .csv file. print(listy) if you need to check"
   ]
  },
  {
   "cell_type": "markdown",
   "metadata": {},
   "source": [
    "### redefining variables"
   ]
  },
  {
   "cell_type": "code",
   "execution_count": null,
   "metadata": {},
   "outputs": [],
   "source": [
    "#this should be replaced with  one loop in cell below;check\n",
    "formula =[]\n",
    "for i in listy:\n",
    "    formy=i['Formula']\n",
    "    formula.append(formy)\n",
    "#print(formula)\n",
    "\n",
    "smilesstring = []\n",
    "for i in listy:\n",
    "    smiley = i['SMILES']\n",
    "    smilesstring.append(smiley)\n",
    "#print(smilesstring)\n",
    "\n",
    "rota =[]\n",
    "for i in listy:\n",
    "    rotya=i['A']\n",
    "    rota.append(rotya)\n",
    "# print(rota)\n",
    "\n",
    "rotb =[]\n",
    "for i in listy:\n",
    "    rotyb=i['B']\n",
    "    rotb.append(rotyb)\n",
    "# print(rotb)\n",
    "\n",
    "rotc =[]\n",
    "for i in listy:\n",
    "    rotyc=i['C']\n",
    "    rotc.append(rotyc)\n",
    "# print(rotc)\n",
    "\n",
    "mua = []\n",
    "for j in listy:\n",
    "    muay = j['mu_a']\n",
    "    mua.append(muay)\n",
    "#print(mua)\n",
    "\n",
    "mub = []\n",
    "for k in listy:\n",
    "    muby = k['mu_b']\n",
    "    mub.append(muby)\n",
    "#print(mub)\n",
    "\n",
    "muc = []\n",
    "for i in listy:\n",
    "    mucy = i['mu_c']\n",
    "    muc.append(mucy)\n",
    "    \n",
    "intSmile=[]\n",
    "for i in listy:\n",
    "    intsmiley=i['SMILES']\n",
    "    intSmile.append(intsmiley)\n",
    "print(intSmile)\n",
    "\n",
    "# abInitCalc  =[]\n",
    "# for i in listy:\n",
    "#     abi = i['not_opt']\n",
    "#     abInitCalc.append(abi)\n",
    "\n",
    "colDens = []\n",
    "for i in listy:\n",
    "    cd = i['log_column']\n",
    "    colDens.append(cd)\n",
    "#print(colDens)"
   ]
  },
  {
   "cell_type": "code",
   "execution_count": null,
   "metadata": {},
   "outputs": [],
   "source": [
    "#creation of all relevant lists\n",
    "formula =[]\n",
    "smilesstring = []\n",
    "rota =[]\n",
    "rotb =[]\n",
    "rotc =[]\n",
    "mua = []\n",
    "mub = []\n",
    "muc = []\n",
    "intSmile=[]\n",
    "colDens = []\n",
    "abInitCalc  =[]\n",
    "\n",
    "\n",
    "for i in listy:\n",
    "    formy=i['Formula']\n",
    "    formula.append(formy)\n",
    "    smiley = i['SMILES']\n",
    "    smilesstring.append(smiley)\n",
    "    rotya=i['A']\n",
    "    rota.append(rotya)\n",
    "    rotyb=i['B']\n",
    "    rotb.append(rotyb)\n",
    "    rotyc=i['C']\n",
    "    rotc.append(rotyc)\n",
    "    muay = i['mu_a']\n",
    "    mua.append(muay)\n",
    "    muby = i['mu_b']\n",
    "    mub.append(muby)\n",
    "    mucy = i['mu_c']\n",
    "    muc.append(mucy)\n",
    "    intsmiley=i['SMILES']\n",
    "    intSmile.append(intsmiley)\n",
    "    cd = i['log_column']\n",
    "    colDens.append(cd)\n",
    "#     abi = i['not_opt']\n",
    "#     abInitCalc.append(abi)\n",
    "    \n",
    "    \n",
    "#print(formula, intSmile)\n",
    "    "
   ]
  },
  {
   "cell_type": "markdown",
   "metadata": {},
   "source": [
    "so the next few cells are modifying the values in our lists from the .csv file. they include filling in blanks with 0, and modifying the rotational constants into scientific notation that spcat can read."
   ]
  },
  {
   "cell_type": "code",
   "execution_count": null,
   "metadata": {},
   "outputs": [],
   "source": []
  },
  {
   "cell_type": "code",
   "execution_count": null,
   "metadata": {},
   "outputs": [],
   "source": [
    "#this replaces any blanks in the .csv files with 0 for any missing rotational constant values. \n",
    "rota_replaceblanks = ['0' if x=='' else x for x in rota]"
   ]
  },
  {
   "cell_type": "code",
   "execution_count": null,
   "metadata": {},
   "outputs": [],
   "source": [
    "newrotA = [float(x) for x in rota_replaceblanks]"
   ]
  },
  {
   "cell_type": "markdown",
   "metadata": {},
   "source": [
    "now, i have a list of floats, and i want to change them into sci notation"
   ]
  },
  {
   "cell_type": "code",
   "execution_count": null,
   "metadata": {},
   "outputs": [
    {
     "name": "stdout",
     "output_type": "stream",
     "text": [
      "2.91E+03\n"
     ]
    }
   ],
   "source": [
    "from decimal import Decimal\n",
    "finalrotA = []\n",
    "for i in newrotA:\n",
    "    forma = '%.2E' % Decimal(i)\n",
    "    finalrotA.append(forma)\n",
    "    #print(forma[0])\n",
    "print(finalrotA[15])\n",
    "#print(type(finalrotA[20]))#mysteroiusly it is a string again?"
   ]
  },
  {
   "cell_type": "markdown",
   "metadata": {},
   "source": [
    "for rotb"
   ]
  },
  {
   "cell_type": "code",
   "execution_count": null,
   "metadata": {},
   "outputs": [],
   "source": [
    "rotb_replaceblanks = ['0' if x=='' else x for x in rotb] #seems alright\n",
    "#print(rotb_replaceblanks)\n",
    "newrotB = [float(x) for x in rotb_replaceblanks]\n",
    "#print(newrotB)#also seemso k\n",
    "finalrotB = []\n",
    "from decimal import Decimal\n",
    "for j in newrotB:\n",
    "    formb = '%.2E' % Decimal(j)\n",
    "    finalrotB.append(formb)\n"
   ]
  },
  {
   "cell_type": "markdown",
   "metadata": {},
   "source": [
    "now... for c"
   ]
  },
  {
   "cell_type": "code",
   "execution_count": null,
   "metadata": {},
   "outputs": [],
   "source": [
    "rotc_replaceblanks = ['0' if x=='' else x for x in rotc] \n",
    "newrotC = [float(x) for x in rotc_replaceblanks]\n",
    "#print(newrotB)#also seemso k\n",
    "finalrotC = []\n",
    "from decimal import Decimal\n",
    "for k in newrotC:\n",
    "    formc = '%.2E' % Decimal(k)\n",
    "    finalrotC.append(formc)\n",
    "#print(finalrotC)\n"
   ]
  },
  {
   "cell_type": "markdown",
   "metadata": {},
   "source": [
    "# everything in this next few sections is to ensure you are in the right folder.\n",
    "get into the right folder|\n",
    "a large part of this is cause i wanted all the .int/.cat/etc files in a separate subfolder, for organization sake. "
   ]
  },
  {
   "cell_type": "code",
   "execution_count": null,
   "metadata": {},
   "outputs": [
    {
     "name": "stdout",
     "output_type": "stream",
     "text": [
      "/Users/hannahts/Desktop/mcguire group/2. Observational/4. SpectralAutomation\n",
      "<class 'str'>\n",
      "<class 'str'>\n"
     ]
    }
   ],
   "source": [
    "origPath = os.getcwd()"
   ]
  },
  {
   "cell_type": "code",
   "execution_count": null,
   "metadata": {},
   "outputs": [],
   "source": [
    "#this is the variable to change if you want to be in a diff folder. make sure it is in the current folder since \n",
    "#that is all i wrote the code for\n",
    "newFolder = origPath + '/tmc1-fd-2025'"
   ]
  },
  {
   "cell_type": "code",
   "execution_count": null,
   "metadata": {},
   "outputs": [],
   "source": [
    "os.chdir(newFolder)"
   ]
  },
  {
   "cell_type": "code",
   "execution_count": null,
   "metadata": {},
   "outputs": [
    {
     "name": "stdout",
     "output_type": "stream",
     "text": [
      "name/title\n",
      "0  1  1312  00  200  -10  -10 300.0  300\n",
      " 001  0.1947\n",
      " 002  -3.3752\n",
      " 003  1.1111\n",
      "\n"
     ]
    }
   ],
   "source": [
    "#this line  opens and reads a file into string.\n",
    "#historically use for testing. you can skip or delete if you dont want to use it. \n",
    "with open('1.int', 'r') as myFile:\n",
    "    filedata = myFile.read()\n",
    "    print(filedata)"
   ]
  },
  {
   "cell_type": "code",
   "execution_count": null,
   "metadata": {},
   "outputs": [
    {
     "name": "stdout",
     "output_type": "stream",
     "text": [
      "C/C=C/CCN\n",
      "C/C=C/CCN\n",
      "0  1  1312  00  200  -10  -10 300.0  300\n",
      " 001  0.1947\n",
      " 002  -3.3752\n",
      " 003  1.1111\n",
      "\n"
     ]
    }
   ],
   "source": [
    "#here, i try to use .replace with objects from a list\n",
    "#histroically used for testing/checking\n",
    "#targettitle = listy[1]['internal_smi']\n",
    "targettitle = intSmile[1]\n",
    "indexspot = listy.index\n",
    "print(targettitle)\n",
    "filedata = filedata.replace('name/title', targettitle)\n",
    "print(filedata)"
   ]
  },
  {
   "cell_type": "markdown",
   "metadata": {},
   "source": [
    "by comparing the above filedata with the file data just below it, you can see the success of filedata.replace. it has replaced the one area I've asked it to, i.e., the title. now, i'll likely want to for loop this to replace a few times. i don't care if its \"slow\", on a first pass attempt it's what i'll try"
   ]
  },
  {
   "cell_type": "markdown",
   "metadata": {},
   "source": [
    "Creation of the .int files. these are done in such a way that the name of the .int file matches the place in the list of the species. this should match the original .csv file."
   ]
  },
  {
   "cell_type": "markdown",
   "metadata": {},
   "source": [
    "# editing .int"
   ]
  },
  {
   "cell_type": "code",
   "execution_count": null,
   "metadata": {},
   "outputs": [],
   "source": [
    "\n",
    "folder_path = '/path/to/folder/just/created/above/tmc1-fd-2025'\n",
    "length_list = 1000 #change to the number of molecules in the .csv file you are looking at\n",
    "\n",
    "for i in range(length_list): #updated\n",
    "    with open(f'{folder_path}/{i}.int', 'w') as f:\n",
    "        f.write(smilesstring[i] +\"           \"+ \" mlc list_place is  \"+ str(i) + \"\\n\"\n",
    "               \"0  1  1312  00  250  -10  -10 300.0  300 \\n\" +\n",
    "               \" 001  \" + mua[i] + \"\\n\"\n",
    "               \" 002  \" + mub[i] + \"\\n\"\n",
    "               \" 003  \" + muc[i])\n",
    "    \n",
    "            \n",
    "        #  (f write) title - smilesstring[i]\n",
    "        #f write ('spcat values 0 1 etc')\n",
    "        #f write '001'+ (mucA[i])\n",
    "\n",
    "                    \n",
    "                \n",
    "                  \n",
    "    "
   ]
  },
  {
   "cell_type": "markdown",
   "metadata": {},
   "source": [
    "\n",
    "# editing .var"
   ]
  },
  {
   "cell_type": "code",
   "execution_count": null,
   "metadata": {},
   "outputs": [],
   "source": [
    "#for i in range(1510):\n",
    "for i in range(1925):\n",
    "    with open(f'{folder_path}/{i}.var', 'w') as f:\n",
    "        f.write(smilesstring[i] +\"           \"+ \"mlc list_place is \"+ str(i)+ \" NOT \\n\"\n",
    "               \"   8   33   40    0     0.0000E+00     5.0000E+20     1.0000E+00 1.0000000000 \\n\" +\n",
    "                \"a   1  1  0  50  0  1  1  1  1  -1   0 \\n\"\n",
    "               \"        10000   \" + finalrotA[i]  + \" 1.00000000E-37 /A \\n\"\n",
    "               \"        20000   \" + finalrotB[i] + \" 1.00000000E-37 /B \\n\"\n",
    "               \"        30000   \" + finalrotC[i] + \" 1.00000000E-37 /C \\n\")\n",
    "       \n",
    "            "
   ]
  },
  {
   "cell_type": "markdown",
   "metadata": {},
   "source": [
    "# Running spcat\n",
    "this uses the OS terminal and is not done on jupyter notebook itself. As such, you have to keep an eye on the terminal window you opened this notebook with. Even if the jupyter notebook says its done, the OS may still be running. The easiest way to check is to attempt to print like, the length of something like the partFn and see what it does. if it gives you a value, the it's done; if not, it's still running spcat in the background"
   ]
  },
  {
   "cell_type": "code",
   "execution_count": null,
   "metadata": {},
   "outputs": [],
   "source": [
    "\n",
    "import subprocess"
   ]
  },
  {
   "cell_type": "code",
   "execution_count": null,
   "metadata": {},
   "outputs": [],
   "source": [
    "for i in range(length_list):\n",
    "    subprocess.Popen([\"spcat\", f\"{i}.int\", f\"{i}.var\"])"
   ]
  },
  {
   "cell_type": "markdown",
   "metadata": {},
   "source": [
    "# IMPORTANT NOTE!!\n",
    "sometimes, the jupyter notebook will say it's done running spcat before spcat has officially run through all the files. if you open jupyter through terminal (as I recommend), the terminal may show ongoing calculations. WAIT U NTIL THOSE ARE DONE or your results will be bad!"
   ]
  },
  {
   "cell_type": "code",
   "execution_count": null,
   "metadata": {},
   "outputs": [],
   "source": []
  },
  {
   "cell_type": "markdown",
   "metadata": {},
   "source": [
    "## creation of the filecount.sh file and the spcat check flag system file. you will need to ensure you have this file written. i'll have to add that as a code in later. \n",
    "this is a .sh file, totally optional step. "
   ]
  },
  {
   "cell_type": "code",
   "execution_count": null,
   "metadata": {},
   "outputs": [
    {
     "data": {
      "text/plain": [
       "<os._wrap_close at 0x7fc0a88e0310>"
      ]
     },
     "metadata": {},
     "output_type": "display_data"
    }
   ],
   "source": [
    "#this prints the number of files to a text, as a sort of check if you want it. below, i run the command directly\n",
    "#in jupyter so you can see it. you should get 1509, which in this case, is the number of molecules. \n",
    "import os\n",
    "os.popen('sh filecount.sh')"
   ]
  },
  {
   "cell_type": "code",
   "execution_count": null,
   "metadata": {},
   "outputs": [
    {
     "name": "stdout",
     "output_type": "stream",
     "text": [
      "Number of .out files: 1925\n"
     ]
    }
   ],
   "source": [
    "import subprocess\n",
    "#expect number equal to len(partFn). or double, if you're running this AFTER the rest of the script which creates a new *partFn.out\n",
    "\n",
    "\n",
    "command = \"ls -1 *.out | wc -l\"\n",
    "result = subprocess.run(command, shell=True, text=True, capture_output=True)\n",
    "\n",
    "print(f\"Number of .out files: {result.stdout.strip()}\")\n"
   ]
  },
  {
   "cell_type": "markdown",
   "metadata": {},
   "source": [
    "### Flag systems below"
   ]
  },
  {
   "cell_type": "markdown",
   "metadata": {},
   "source": [
    "below calls a file that will check and sort the length of the various .out files to a text file called filelengths.txt. you can easily check to make sure all the files are the same length which will suggest that the next step to pull proper Q is alright as well. "
   ]
  },
  {
   "cell_type": "code",
   "execution_count": null,
   "metadata": {},
   "outputs": [
    {
     "data": {
      "text/plain": [
       "<os._wrap_close at 0x7fc0a897f550>"
      ]
     },
     "metadata": {},
     "output_type": "display_data"
    }
   ],
   "source": [
    "import os\n",
    "os.popen('sh spcatcheck.sh')"
   ]
  },
  {
   "cell_type": "markdown",
   "metadata": {},
   "source": [
    "\n",
    "\n",
    "## Parsing .out Files for calculated partition function Q at 300K"
   ]
  },
  {
   "cell_type": "code",
   "execution_count": null,
   "metadata": {},
   "outputs": [],
   "source": [
    "\n",
    "folder_path = '/path/to/folder/made/above/tmc1-fd-2025'\n",
    "\n",
    "\n",
    "\n",
    "partFn = []\n",
    "\n",
    "for i in range(length_list):\n",
    "    with open(f'{folder_path}/{i}.out', 'r') as rd:\n",
    "        for line in rd:\n",
    "            if line ==\"TEMPERATURE - Q(SPIN-ROT.) - log Q(SPIN-ROT.)\\n\":\n",
    "                break\n",
    "\n",
    "        for line in rd:\n",
    "            temp, Q, logQ = line.split()\n",
    "            if float(temp) == 300:\n",
    "                partFn.append(Q)\n",
    "                break\n",
    "          #  partFn.append(Q)\n",
    "#print(Q)\n",
    "        \n",
    "        \n",
    "        \n",
    "        \n"
   ]
  },
  {
   "cell_type": "markdown",
   "metadata": {},
   "source": [
    "## the cell below replaces the original .int files initial partition function value of 1312 with the calculated one from the list above, partFn"
   ]
  },
  {
   "cell_type": "code",
   "execution_count": null,
   "metadata": {},
   "outputs": [],
   "source": [
    "for i in range(1925):\n",
    "    with open(f'{folder_path}/{i}.var', 'w') as f:\n",
    "        f.write(smilesstring[i] +\"           \"+ \"mlc list_place is \"+ str(i)+ \"\\n\"\n",
    "               \"   8   33   40    0     0.0000E+00     5.0000E+20     1.0000E+00 1.0000000000 \\n\" +\n",
    "                \"a   1  1  0  50  0  1  1  1  1  -1   0 \\n\"\n",
    "               \"        10000   \" + finalrotA[i]  + \" 1.00000000E-37 /A \\n\"\n",
    "               \"        20000   \" + finalrotB[i] + \" 1.00000000E-37 /B \\n\"\n",
    "               \"        30000   \" + finalrotC[i] + \" 1.00000000E-37 /C \\n\")"
   ]
  },
  {
   "cell_type": "code",
   "execution_count": null,
   "metadata": {},
   "outputs": [
    {
     "name": "stdout",
     "output_type": "stream",
     "text": [
      "Replacement done!\n"
     ]
    }
   ],
   "source": [
    "\n",
    "\n",
    "input_directory = folder_path\n",
    "\n",
    "\n",
    "        \n",
    "def replace_value_in_file(old_file_path, new_file_path, old_value, new_value):\n",
    "    with open(old_file_path, 'r') as file:\n",
    "        content = file.read()\n",
    "    \n",
    "    # Replace the old value with the new value\n",
    "    new_content = content.replace(old_value, new_value)\n",
    "    \n",
    "    # Write the modified content to the new file\n",
    "    with open(new_file_path, 'w') as file:\n",
    "        file.write(new_content)\n",
    "    \n",
    "        \n",
    "\n",
    "# Loop through each number in the specified range\n",
    "for i in range(0,1925):\n",
    "    # Construct the original filename and new filename\n",
    "    original_file_name = f\"{i}.int\"  \n",
    "    original_file_path = os.path.join(input_directory, original_file_name)\n",
    "    new_file_name = f\"{i}partFn.int\"\n",
    "    new_file_path = os.path.join(input_directory, new_file_name)\n",
    "    \n",
    "    # Ensure the file exists\n",
    "    if os.path.exists(original_file_path):\n",
    "        replace_value_in_file(original_file_path, new_file_path, '0  1  1312  00  250  -10  -10 300.0  300', '0  1  '+partFn[i]+'  00  250  -10  -10 300.0  300')\n",
    "    else:\n",
    "        print(f\"File {original_file_path} does not exist.\")\n",
    "\n",
    "print(\"Replacement done!\")\n",
    "        \n",
    "        \n",
    "        \n",
    "        \n",
    "        \n",
    "        \n",
    "        \n",
    "        \n",
    "        \n"
   ]
  },
  {
   "cell_type": "markdown",
   "metadata": {},
   "source": [
    "# Rerun spcat. now it has to correct .int and .var with correct tempts"
   ]
  },
  {
   "cell_type": "code",
   "execution_count": null,
   "metadata": {},
   "outputs": [],
   "source": [
    "#running spcat again\n",
    "#important to note that spcat names the result files based on .int name\n",
    "for i in range(length_list):\n",
    "    subprocess.Popen([\"spcat\", f\"{i}partFn.int\", f\"{i}.var\"])"
   ]
  },
  {
   "cell_type": "markdown",
   "metadata": {},
   "source": [
    "# Creation of qpart files\n"
   ]
  },
  {
   "cell_type": "markdown",
   "metadata": {},
   "source": [
    "finally, to use molsim, we use the qpart files. these just have the relevant temperature calcs. "
   ]
  },
  {
   "cell_type": "code",
   "execution_count": null,
   "metadata": {},
   "outputs": [],
   "source": [
    "#creates qpart files\n",
    "\n",
    "\n",
    "\n",
    "folder_path = '/path/to/above/tmc1-fd-2025' #i redefine this multiple times because i'm paranoid, not for any other particular reason\n",
    "\n",
    "\n",
    "\n",
    "listOfDicts=[]\n",
    "\n",
    "\n",
    "for i in range(length_list):\n",
    "    with open(f'{folder_path}/{i}partFn.out', 'r') as rd:\n",
    "        for line in rd:\n",
    "            if line ==\"TEMPERATURE - Q(SPIN-ROT.) - log Q(SPIN-ROT.)\\n\":\n",
    "                break\n",
    "                \n",
    "\n",
    "        tempList = [] \n",
    "        qList = []\n",
    "        for line in rd:\n",
    "            temp, Q, logQ = line.split()\n",
    "            tempList.append(temp)\n",
    "            qList.append(Q)\n",
    "            #print(type(tempList[0]))\n",
    "            #print(type(tempList))\n",
    "        #print(qList[1])\n",
    "        #print(qList)\n",
    "            \n",
    "            \n",
    "        with open(f'{folder_path}/{i}.qpart', 'w') as f: \n",
    "            f.write(\"#form : interpolation \\n\")\n",
    "            for k in range(len(tempList)):\n",
    "                f.write(tempList[k]+\"   \" + qList[k]+\"\\n\")\n",
    "            \n",
    "\n",
    "            \n",
    "            \n",
    "            "
   ]
  },
  {
   "cell_type": "markdown",
   "metadata": {},
   "source": []
  }
 ],
 "metadata": {
  "language_info": {
   "name": "python"
  }
 },
 "nbformat": 4,
 "nbformat_minor": 2
}

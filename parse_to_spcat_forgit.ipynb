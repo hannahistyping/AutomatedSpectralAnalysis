{
 "cells": [
  {
   "cell_type": "code",
   "execution_count": null,
   "metadata": {},
   "outputs": [],
   "source": []
  },
  {
   "cell_type": "markdown",
   "metadata": {},
   "source": [
    "so this is the followup CSVParse in its current iteration as of June 14, 2022. As of now,  CSVParse jupyter notebook functions as the initial .csv parsing, which puts every row as a dictionary into a list. as a check, items on the list are put into variables and printed onto a text file which is used as a \"check.\" finally, base .int and .var files are created in a for loop, with one of each per molecule. the numbers of each file are associated with the key \"list_value\" in the original .csv."
   ]
  },
  {
   "cell_type": "markdown",
   "metadata": {},
   "source": [
    "from here, I need to modify parts of the .int and .var files to the correct, ML-predicted rotational constants and dipole moments and run it. "
   ]
  },
  {
   "cell_type": "markdown",
   "metadata": {},
   "source": [
    "instead of attempting to just get dictionaries, I'm just gonna repeat the command initially lol. at some point i'm going to want to be able to automate so that once last code is done, i do this. later hannah's problem tho\n"
   ]
  },
  {
   "cell_type": "markdown",
   "metadata": {},
   "source": [
    "The point of this is to take the spcat files made in the CSVParse script and modify each so that it contains the values from the summary.csv files. "
   ]
  },
  {
   "cell_type": "code",
   "execution_count": null,
   "metadata": {},
   "outputs": [],
   "source": [
    "import csv\n",
    "import os"
   ]
  },
  {
   "cell_type": "markdown",
   "metadata": {},
   "source": [
    "get to your .csv file! recall that this should be the full ML results, including quantum chem calcs. "
   ]
  },
  {
   "cell_type": "code",
   "execution_count": null,
   "metadata": {},
   "outputs": [],
   "source": [
    " \n",
    "# opening the CSV file\n",
    "with open('path_to_csv.csv', mode ='r') as file: \n",
    "    csvFile=csv.DictReader(file)\n",
    "    \n",
    "    listy = list(csvFile) \n",
    "    "
   ]
  },
  {
   "cell_type": "markdown",
   "metadata": {},
   "source": [
    "IMPORTANT NOTE: if you begin to see errors such as \"index out of range\" this is likely an issue in the original .csv file. print(listy) if you need to check"
   ]
  },
  {
   "cell_type": "markdown",
   "metadata": {},
   "source": [
    "### redefining variables"
   ]
  },
  {
   "cell_type": "code",
   "execution_count": null,
   "metadata": {},
   "outputs": [
    {
     "name": "stdout",
     "output_type": "stream",
     "text": [
      "['C=C=[C+]C#N', 'C/C=C/CCN', 'NCC(=O)[O-]', 'CC1(C)C=C1', 'C=CCCc1ccccc1', 'N#C[SiH3]', 'CC=CCO', 'Nc1cccs1', 'CC1=CCc2ccccc21', 'N#CC1=CCOC1=O', '[CH3-]', 'C[C@@H]1N=CCS1', 'CC=COC', 'Cc1ccc2c(c1C)C=CC2', 'O=C1C=CCN1Cc1ccccc1', 'c1ccc2c(c1)NCCN2', 'N#CC#CCC#CC#N', 'C=N', 'Nc1cccc2c1CC=C2', 'C#C/C=C/CO', 'C#Cc1cccs1', 'N#Cc1cccs1', '[CH+]=N', 'CCOC=N', 'O=N[OH2+]', '[CH2]', 'C/C(O)=C/CN', 'C#CC1=CCOC1=O', 'C=C(C)CC', '[C]=N', 'C1=CCC1', 'NC#[O+]', 'c1ccc2c(c1)CNC2', 'OCCP', 'C#CC#CC#CCC#C', 'C=CC#N', 'NCC=O', 'C=C1C=Nc2ccccc21', 'C=C[CH]C=C', '[C-]#C[C]=C=[C+]C#[C-]', 'C#CC(C#C)C#CCO', 'O[SiH3]', 'C/C=C\\\\CCN', 'C#CC#CC#CC(C)=O', 'c1ccc2c(c1)CCOC2', 'Nc1csc2ccccc12', 'C1N=N1', 'C=CSO', '[NH3+]CCCO', 'C=CC=CO', 'CCC=CCC', 'CCO/C=N\\\\C#N', 'C#CCNCC#N', 'C=CCc1cccs1', 'CC(=O)[O-]', 'C=CC(C=C)Oc1cccccc1=O', 'CCSCC', 'Cc1ccc2c(C)csc2c1', 'C/C=C/C=C\\\\CC', 'N=C1CC1', 'C#CC1C=CC=CC=C1', 'C#CC#CCCO', 'C=CC[SiH](C)C', 'Cc1ccc2c(c1)CNC2', 'CC#CC#CC', 'C[N+]=C=O', 'CC(C)=[N+]=[N-]', 'SC=CS', 'C=Cc1cscc1C=C', 'C/C=C/C=C/C=N\\\\O', 'CNC#N', 'C=C[C@H](N)CO', 'C#CC#CC1NC1C#C', 'O=C1Cc2ccccc2C1', 'C=C1CC1', 'C#C[C@H](O)C=C', 'C=C1C=c2ccccc2=C1', 'c1ccc2c(c1)CNOC2', 'CC#CC', 'C=C[SiH3]', 'C#CC#CC(C)C#CC', 'Cc1cccc2c1C=CC2', 'C#CC1=CC=CCOC1', 'C1=CO1', '[C+]#CC#CC#C[N-]', '[C+]#C[S]', 'CC[C@H]1CS1', 'CC=C(C)C', 'CC#CC#C[CH4+]', 'C#CC#CCOCC#N', '[N]=O', 'N#CC#CCCO', 'C=C/C=C/CCC=C', 'C#C/C=C/C#C', 'C#CCOCC#CC', 'C=C/C=C/OC', 'C#CCC#CC#CC#N', 'CC#C[C+]=C=[N]', 'CN(C)[SiH3]', '[C+]#C[C+]=C=[N-]', 'C=C=C', 'C#CC#CCOC', 'NC/C=C\\\\CN', 'Nc1ccc2c(c1)C=CCO2', 'C=C=CN=C=S', '[C+]#C[C-]=C=C=C=C=C=[C+]C#[C-]', 'C#CC#CCCCC#N', '[C+]#C[C]=C=C=C=[CH-]', 'C#CC(C#C)C#CCC', 'C#CCC(C#C)CC#C', '[C+]#CC', 'C=C1C=C1', 'C=C1C(=C)C1=C', '[CH2+]O', 'O=CCCS', 'N#CC#CC#CCCO', '[SiH2]c1ccccc1', 'C=S', 'C#CC#CCC#C', '[SiH4]', 'Cc1ccc2cccc-2cc1', 'N#CC1=CCCC1=O', 'CC[NH3+]', 'CCC#CC#CCC#N', '[CH]1C=CC=C1', 'C1=CCOCC=C1', 'O/N=C\\\\CCC/C=N\\\\O', 'C#CCCC#CN', 'O=CNCCO', 'C[C]=O', 'CC=C=O', 'C#C[CH]C=C', 'C=CC(C=C)Oc1ccccc1C#N', 'NCCC=O', 'CSC=O', 'N#CC/C=C\\\\CC#N', 'COC1=Cc2ccccc2C1', 'C#CC1=CCCC1', 'C=CCOC=C', 'C=C=C=C=[C][CH2+]', 'C#C[C]=C=C', 'C/C=C/C=C\\\\C=N/O', 'C[S+]', 'N[NH3+]', 'C[CH]O', 'Cc1cscc1O', 'C#CC(C#C)C=O', 'CC#CCC#CC=O', 'NC/C=C/CN', 'O=C1CNC1', 'C/C=C/CN', 'N=C1CCO1', 'C=C[C@H](N)c1ccccc1', 'O=CC=CO', 'N#CC1C=CCC1', 'C1=CCCSC=C1', 'C=CCC#N', 'CC#CC#CCCC', 'C=CC=CC#CC#CC#CC#CC', 'Cc1ccc2c(c1C)CC=C2', 'CCSC', 'C[SiH2]c1ccccc1', '[CH+]C', 'O/N=C\\\\C=N\\\\O', 'CC=CCC', 'C[C@H]1CN1CO', 'N#C[C]=[C+]C#N', 'CC(C)[NH3+]', 'CPC', '[CH]', 'N#CC#CCC#CC=O', 'CC=C=CC', 'CC=NCC', 'N#CC#CC#CCC=O', 'CSC#N', 'C#CC#CCNCC#N', 'CC[C@@H]1CO1', 'N#CNC#N', 'CC#CC1C=CN=C1O', '[O-]O', 'O=S', 'CC(/C=N\\\\O)=N/O', 'C=C(C)CO', 'CC(C)=[O+]', 'CC=CCC=O', 'C=C(O)CC', 'CCCSC', 'CC=[N+]=[N-]', 'C#CC#CSCC', 'C=CCC#CC', 'CC(C)=CCO', 'N=CCS', 'c1ccc2c(c1)CCCN2', 'SCc1ccco1', 'O=C([O-])O', 'C#CC#CC#CCC=O', 'C#C[C+]=C=[N]', 'CC/C=C\\\\CO', 'C#C[c-]1cccc1', '[C]#CC#CC#[C+]', 'C=CC#CC#CC#CC#CC#CC', 'C=CC(C=O)=CC', 'C=CC#CC=C', 'CC(C)=N', 'C=C[C@H](N)CC', 'CC/C=C/N', 'S=C1C=CCC1', 'C=C/C=C/CC', 'CCc1cscc1C#N', 'COC#N', 'N#C[C@@H]1CO1', 'O=O', 'c1ccc2c(c1)OCS2', 'COC=[O+]C', 'C=C1C=CCC1', 'CC=NO', 'C1=CSC=CC1', 'C#CC#CC#C[C+]=C=[N-]', 'C#CCCN', 'C#C[O]', 'CCC#C/C=C\\\\CO', '[S+]', 'C[NH]', 'CO/N=C/CC#N', 'C=C[O]', 'N#CC1=CCC=C1', '[C-]#[N+][N+]#[C-]', 'C=CC#CCC', 'CCC/C=C/CO', 'C/C=C\\\\C=C/CC', 'C/C=C\\\\CC/C=C\\\\C', 'C/C=C/C=O', 'C=COC=C', 'O=c1ccc1=O', '[O-][N+]1=Cc2ccccc2CC1', 'N#CC=CC#N', '[C-]#CC#CC#CC#C', 'C#CC=COC', '[C-]#[N+]C=CC', 'OC=C1C=CC=C1', 'N#CC#CC#[NH+]', '[CH+]=[C]C=C', '[SiH+]', 'c1ccc2c(c1)CCN2', 'C#C/C=C\\\\C', 'C1=CC1', '[C+]#N', 'N#CCN', 'CN1CC=CC1', '[C]#CC#CC#CC#[C+]', 'C=C(N)[O-]', 'CC1C=CC=C1', 'C#CCSCC#C', 'CC#CC#CC#CC#[NH+]', 'C#C[CH2+]', '[CH]=[CH+]', 'C=C[CH-]C', 'C=CCOC=O', '[NH]N', 'C#CCC#CC#CC', 'O=CNC=O', 'C#CCN=C1C=CCO1', '[CH2]C', 'c1css1', 'C#CC1C=CCO1', 'C=C1C=CC1=C', 'C[C@@H]1C=Cc2ccccc21', 'C=NC', 'CCCC=NC', 'C[S-]', '[CH2-]C', '[CH]=CC#CC#N', 'c1ccc2c(c1)COC2', '[C+]#C[N]', 'N#CC=CO', 'C[C@H]1C[C@@H]1N', 'CC=C1C=CCC1', 'OCC1=CC=CC1', 'C#[S+]', 'C=C(C)/C=N\\\\O', '[N+]', 'C#CC(C)C#CC#CC', 'C#CCOC=O', 'C#CCCC#N', 'CC=CO', 'CN=C(C)C', 'CC(=O)C=[N+]=[N-]', 'C#CC#CCCC#N', 'CC(=O)S', 'C=CC(C)O', 'C#CCN=COC', 'CC(=O)CC#N', 'C=C=C=COCC', 'C/C=C/C=C/C', 'C=C[CH]C', 'CC#CC#C[C+]=C=[N]', '[CH2]C#N', 'N#CN=C=O', 'N#CCCO', 'C[N+]1=CCCC1', 'CCCOC', 'CNO', 'C[SiH2]C', 'C/C=C/C=C/CC', 'C/C=C/OCC', 'C1=CSC1', 'NC(=O)CCO', 'C#CCCC', 'C#CC#CCC#CCO', 'C#C/C=C/CC', 'C[CH]OC', 'C#CC#CC#CC#N', 'C/C=C/CC#N', 'C#CC1=CCC=CC=C1', '[C]1=C=C1', '[C]#CC#CC#C', 'N[C@@H]1C[C@H]1N', 'C[C@H](N)c1ccco1', 'C=CCCC=C', 'CO[C@@H]1C[C@H]1N', '[CH]=O', 'C1=CSCO1', 'CC#CCCC#CC#N', 'C=C/C=C/C=C', 'C=CCOC', 'C[NH+]=C1NC=CC1=C=[N-]', 'CC=Cc1ccccc1', 'CCC=S', 'C1CC1', 'CC1N=CCS1', 'CC1CO1', 'CCOCC', 'CC#COC', '[C+]#C[S-]', 'CC#CC#CC#C[C+]=C=[N]', '[CH+]=[N]', 'N#CN', 'C=C/C=C\\\\CC=C', 'C#CCNC', 'C=NO', 'C#CC#CC#C[C+]=O', 'CC#CSC', 'C=CC=CC', 'C=CC(C=C)C=C', 'C#C/C=C/C', 'C#CCCN=CO', 'C=CC#CC=CC=CC', 'C1=C(c2ccccc2)CC1', 'N#C[S+]', 'CC[C@@H]1CN1', 'N#CC#CCO', 'N#CC#CC#CC#CC#N', 'N#CC=O', 'CC=C=C=O', 'c1ccc2c(c1)CCO2', '[C-]=C=C=C=[CH+]', 'C=C1CCC1=C', 'C=C=[O+]', 'C#CCC#CCC#N', 'O=[CH+]O', '[C+]#CC#C[C+]=C=[N-]', 'C=Cc1ccco1', 'C=C=C=C=[C+]C#CC', 'CC#CC#CC#CC', 'C#CC#C[C]=[CH+]', 'CCC1C=CC=C1', '[C]#[N+][N-]', 'C#CCNCC#CC#N', 'C1=C(c2ccccc2)CS1', 'C#CC#CC#CCC', '[C-]#CC#CC#C', 'CC(=O)CCN', 'S=C1C=CC=C1', 'CCCC#N', '[SH3+]', 'C#CC#[O+]', 'O=C([O-])[O-]', 'Cc1cscc1Nc1ccccc1', 'C=[N+]=[N-]', 'N[C@H]1C[C@@H]1N', '[CH2]C#CC', 'O=C=[O+]', 'C#CC=CC=C', 'C#CC#CC#CCOC', 'C=CC1(C=C)CC1', 'CC(N)=O', '[CH+]=[C]C#CC#CC#CC', 'N#CC/C=C\\\\CO', 'C#C[C+]=C=C=C', 'C=CCC#CCO', 'N', 'CC=CCC#N', 'C=C1C=CC1=O', 'C=C=CCCC', 'CC(=O)C=C=O', 'N#CCC#N', 'CN=COC', 'c1ccc2c(c1)CC2', 'C1=Nc2ccccc2C1', 'Nc1ccc2c(c1)SCN2', 'C=C=C(C)CC', '[CH]=C=C', 'C#CC#CC(C#C)OC', 'N#C[C@@H]1CN1', 'Cc1ccc2cc(N)sc2c1', 'O=[SiH2]', '[C]#CC#CC#CC#N', 'NCCS', 'N#CC#[NH+]', 'O=CCCc1ccccc1', 'C#CC1CN1', 'NCCCS', 'CC/C=C/CO', 'CC(=CC#N)c1ccccc1', 'C=C1CO1', 'C#C[N+]#C', 'C[SH2+]', 'N#C[C+]=N', '[CH+]', 'CCN=CO', 'C[C-]=O', 'C[S@@](=O)CC#N', '[C+]#CC#CC#CC#CC', 'CC#CCC#CC', 'C/C=C/OC', 'C#CC1CC1', 'CC(=O)CO', 'C#CC#CC(C)C#C', 'C=Cc1ccc2c(c1)C=C2', 'C=CCSC', 'CC#CC#CC#CC=O', 'C/C=C/C=C\\\\CO', 'N#CC#CCC=O', 'C#CC#C[C+]=C=[N]', 'CC(O)=C1C=CC=C1', 'C#CCNC(C#C)C#C', 'C#CC#CCCC', '[C-]#CC#[S+]', 'C=CC#CC=CC=C', 'C=C(CN)c1ccccc1', 'c1ccc2c3c(ccc2c1)O3', 'C=CCN=C=S', 'CC#CC#CC#CC#N', 'C=CSCC', '[C+]#C[C]=C=C=C=C', 'CC#CSC#CC', 'C/C=C\\\\CC/C=C/C', 'C#COCC', 'C=CP', 'O=C=C=C=O', 'C=C1OC1=O', 'CC#[N+]C', '[N-]=[N+]=N', '[CH2+][CH]C#N', 'C#CCCCO', 'C#CC#CCCC=O', 'Cc1ccco1', 'C=C=CCO', 'COO', 'CCC=C=O', 'C[C@@H]1CN1', 'O/N=C\\\\CC/C=N\\\\O', 'COCC#CC#N', 'C=Cc1ccc2c(c1)CC2', 'C#CCN=CO', '[C+]C#C', 'Cc1cccc2c1CC=C2', '[PH]', 'C=CCS', 'C=COC', 'c1ccc2c(c1)NCCS2', 'C=C(C)c1ccccc1', 'O=CC#CC=O', 'CC#CCC#CCC#N', 'C=CCNC#N', 'CN=C=O', 'NCS', 'CC1=CCOC1', 'CC#CCCO', 'CC1C=Cc2ccccc21', 'C#CC#CC#CCCC', 'CC#CC#CCC#CC', 'O=C1C=CCC1=O', 'CC(=O)C=O', 'N#CC1=CCOC1', 'C=CCN=C=O', 'C#C[SiH3]', 'C#CCCC#CCO', 'CCC#[O+]', 'CSS', '[N]=[C+]C#N', 'C[C@@H]1CS1', '[C]#CC#CC#[C-]', 'C=CC=C=CC', 'N#C[O]', 'O=S=O', '[PH2-]', 'N#[S+]', 'S=C=Nc1ccc2c(c1)CCC2', '[C-]#C[C-]=C=C=C=[CH+]', 'CC#CC#CCC#N', 'N[O+]', 'C=Cc1cccc2c1CC2', 'Cc1cscc1CO', 'C#CCC#C', 'Nc1ccc2c(c1)C=C2', '[C-]#CC#CC#[O+]', 'C#Cc1ccccc1C', 'CC#CCC#N', 'C=C(C)c1ccco1', 'CC1=CS1', '[S+]S', 'C#CCOC', 'OC1C=CCC1', 'c1cc[te]c1', 'N=[O+]', 'CO[SiH2]N', 'C#CC#CCC(=O)C#C', 'CNCCSC', 'C1=CSCN1', 'C#CCOCC', 'C#CC1=CCOC1=N', 'C#CC=C', 'CCCN', 'CC#CCN', 'Cc1cocc1C', 'C=C=CC=C', 'N=CO', 'C=CCCC', '[O-]C1=C[NH+]2CCC2=C1', 'N#CCC#CCC#N', 'O=C1CC1', 'O=CC=O', 'CCC=O', 'CC=Cc1ccccc1C', 'CC(C)=S', 'C=CC/C=C/C', 'C/C=C\\\\CCC', 'CC#CC#CC#N', 'NC(=O)CCS', 'CC=CS', 'CCOC=O', 'Nc1cc(O)c2ccsc2c1', 'C=Cc1ccc(C)o1', 'CCNC', 'C=CCc1ccccc1S', 'CCC', '[SiH3+]', 'CNC(=O)S', 'CCCC=O', 'C#CCCCC#N', 'C=CC1=CC=CC1', 'CC(C)=C=O', 'CCCC[S-]', 'N#CNCO', 'N#CC1C=CCC1=O', 'C#C[C@@H](O)C=C', 'CCC=CC=O', 'CCN=O', 'N#C[NH3+]', 'C/C=C/S/C=C/C', 'N#CC#CC#N', 'CC#CN', 'O=CCS', 'C=C1CNC1', 'C#Cc1ccsc1', '[O]N=O', 'Cc1cc2ccccc2cp1', '[C+]#CC#CC#CC#C[CH2-]', 'C[N-]C', 'NC=CN', 'N#CN=[N+]=[N-]', 'Nc1ccc2c(c1)CC2', 'C=CC#CCCO', 'c1ccc2c(c1)ccc1ccoc12', 'Cc1ccccc1-c1cccs1', 'N#CSC#N', 'C=C[C@@H](C)N', 'C=C=C=C=C=[C][CH2+]', 'SCS', 'Cc1ccc2c(c1)CCN2', '[C-]#[N+]C#CC#CC#C', '[O+]', 'C#CC#CC#CC(C)O', 'C=C1C=CC=CC=C1', 'C=CCc1ccco1', 'CCO[SiH3]', 'C=CC1(C)C=C1', 'C1CS1', '[C-]#[S+]', 'CCCC=[N+]=[N-]', 'OP', 'C#CCC#CC#N', '[SiH2]=C=[SiH2]', 'Nc1cccc(O)c1', 'C#C/C=C\\\\C#N', 'c1ccsc1', '[CH+]=CC=[CH-]', 'CCc1ccc2c(c1)C=CCO2', 'C#CC#CC#C', 'CCCCS', 'C#CCc1cscc1C', 'CC#CCOC', 'C=CCC=CN', 'OC1=CCCC1', '[SiH3-]', 'Cc1ccc2c(c1)C=CCC2', 'C=C(C)C=O', 'N#CC#CCC#N', 'C/C=C/CCC', 'C=C=Cc1ccccc1', 'C#CC#CCCCO', 'SS', '[NH4+]', '[C+]#CC#CC#CC#CC#C', 'C=CSC#CC', '[SiH2+]', 'N#CCCC#N', 'C#CC(=O)C(C#C)C#C', 'C[OH+]C', '[CH3+]', 'CC(=O)c1ccc[te]1', 'C#CC(C#C)C#C', '[S-2]', 'O[C+]=S', 'C#CCC#CCCC#C', 'OOO', 'C=CC1C=CC1', 'C1=CCSC1', 'C#C[CH]C', 'N#CC1C=CCO1', 'C=C/C=C/CC=C', 'Cc1ccc2sc(C)cc2c1', 'CCC=NCC', '[C-]#CC#C[C]=C=[C+]C#[C-]', '[C]#CC#CC#CC#[C-]', 'C=S=O', 'C#CC#CC(C#C)CC', 'C=CCN', 'C#CCCC#CC=O', 'Cc1cscc1-c1ccccc1C#N', 'CC=C(C)S', 'CC#CC#CC=O', 'CC#CC#CCC', 'C=[N]', 'C#CC(C#C)C#CC#N', 'CCC=CC#N', 'CC(C)=[OH+]', 'CC/C=N\\\\S', 'CC#CSC#N', '[CH]=S', '[C+]N', 'C/C=C\\\\OC', 'S[SH2+]', 'Cc1cccc(S)c1', 'C#CC#CC#CCCO', 'C[C@H]1NCc2ccccc21', 'C#CC1C=CCC1', '[C+]#CC#CC#CC#C', 'C1=CC2=C3C=CC(=C2C1)C3', 'O=C1C=CC2C=CC1C=C2', 'CC(=O)C=CC#N', 'N#CC=CCCO', 'N[C@H]1CC[C@H]1N', 'C=C[C@@H]1CO1', 'C#[SH]', 'C=CC1C=CC=C1', 'C#CC#CC(=O)C#CC', 'CC(=O)NC#N', '[CH2-]C=C1C=CC=C1', 'Cc1ccc[se]1', 'C1=NCc2ccccc21', 'CN=CC#N', 'C=CC=CC=C', 'CN', 'C#CC#CC(O)C#CC', 'C#CC#CCCC#CC', '[C+]#CC#C[C]=C=C=C=[CH-]', 'CC=C=C(C)C', 'N#[SiH]', '[CH2]CC', 'CCP', 'C=C=COC=C', 'CCC#C/C=C/CO', 'CC1=N[NH2+]C=C1', 'C#CC(O)C#CC#CC', 'O=C=C1C=CC=C1', 'CCC#CC#CC#N', 'O/N=C/C=N/O', 'CO[SiH3]', 'C#CC1=CCN=C1O', 'COCCC#N', 'CCC=Cc1ccccc1', 'C#CC#CC#CC1CN1', 'CC(C)=C1C=CC=C1', 'C/C=C\\\\C', 'C#CC#CC#CCC#N', 'C#CC=COCC', '[CH+]=C=[CH-]', 'CC[NH-]', '[CH+]=[C]C#CC#N', '[CH]=C', 'C=Cc1ccccc1', 'C[N+]1=Cc2ccccc2CC1', 'OC1=NCC=C1', 'CC/C=C\\\\CC', '[C-]#CC#N', 'O=c1cc(-c2ccccc2)c1=O', '[C]#CC#N', 'C#CCCC#C', 'C=CCP', 'C#[N+][O]', 'O=COO', 'CC1=Cc2ccccc2C1', '[NH2+]=CO', '[C+]#CC#C', 'O=CC1C=CCC1', 'CC#CCC#CCO', 'C#CC1=CC=CC=CC1', 'CC(=O)CCO', 'C=CC(C=C)OCC#N', '[CH+]=[C]C#CC', '[CH2]N', 'C#CC#CC#CC=O', 'C[C@@H](N)CS', '[OH+]', 'C=Cc1cccc(O)c1', '[C+]#C[O]', 'C#CC#CCOCC', 'C1=CC=CCC=C1', 'N#CC#CCOCC#N', 'C#N', '[C+]#C[N-]', 'c1cc[se]c1', 'Nc1ccc2c(c1)CCO2', 'C#CC#CC#CC#CC#CC#N', '[C+]', 'N#C/C=C/C#N', 'OC1C=Cc2ccccc21', 'C#CC#CCC(O)C#C', 'N#CSO', 'CC#C[CH+]C#N', 'Nc1cc2ccccc2s1', 'NCCO', 'C#C[C+]=C=S', 'C#CC#CCC#CC=O', 'Cc1ccc2c(c1)CC=CO2', 'N=C1CCCS1', '[CH+]=[C]C#N', '[OH]', 'C=NCC', 'S=C=S', 'C=CC#CCO', 'C=CCCC=O', '[C]#CC#CC#CC#CC#C', 'C=C[C@@H](N)CC', '[C]#N', 'N#CC#CC#CC1CO1', 'C=CC=CC=CC=C', 'Cc1cscc1C#N', 'CCOCC#N', 'C1COC1', 'O=CCOC=O', 'C#CC#CC#C[C+]=C=[N]', 'C[C@H](CN)c1ccccc1', 'C=CC=C=O', 'C=CC#CCC=C', 'C#CC#C[C+]=C=[N-]', 'N=N', 'C#C/C=C\\\\CO', 'C=C=CC#N', 'CC(=O)OC=O', 'c1ccc2c(c1)CS2', '[NH-]N', '[CH]1CO1', 'C=CC#CC', 'C#CCC#N', '[SiH5+]', 'O=C1C=CC=C1', 'C[NH3+]', 'C#CCC#CCC', 'C=C[CH][CH2+]', 'C#CC#[S+]', 'C1=CC2NC1c1ccccc12', 'CC#CSC=CC', 'N#CO', 'C1=NC1', 'C#CCC#CCCC#N', 'Cc1cc2ccccc2cc1C#N', 'O', '[C+]#C[C]C#[C-]', 'CCN=N[O-]', '[PH+]', 'C=C[SiH](C)C', 'C#CC#C[C+]=C=C', 'O=[N+]=O', 'CC=CCCC', '[C]=C=C', 'c1ccc2c(c1)CCS2', 'C[O]', 'C#C[C+]=C', 'CCC(=O)S', 'C#CC1=CC=CCC=C1', 'CSC[C@@H](C)N', 'c1ccc2c(c1)NCN2', 'C=Cc1ccccc1CC', 'C#CCCC#CC#N', 'N#CC#N', 'N#CC=S', 'N#Cc1cscc1C#N', 'C=C=CCN', 'C=CCCCC', 'CC/C=N/S', 'CCC#CC#CC=O', 'OCCO', 'O=C1C=CCC1', '[CH3]', 'C#CC#CC#CC#CC', 'CC(N)C=O', 'Nc1ccc(O)cc1', 'CC/C=N\\\\O', 'NO', 'C=C=CC=C=C', '[C]#C', 'O=CNO', 'O=COCCO', 'C[C@@H]1O[C@H]1C', 'OPO', 'CC(C)N=[N+]=[N-]', 'C#CC#CC#CC1CC1', 'CC=CSC', 'C#CC=O', '[CH2]OC', 'C1=CC(c2ccccc2)CC1', 'C=CC[C@@H](C)O', 'C#CCO[C@H](C#C)CC', 'N#CC1=CC=CC1', 'C=CC=C1C=CC1', 'O=C=S', 'CC(/C=N/O)=N\\\\O', 'COCC#N', '[NH2-]', 'C=CC(C)=O', 'C#CC#CC#CC#CC#C', 'CN=N[O-]', 'CON', 'Cc1ccc2c(c1)C=CCO2', '[C+]#C[C+]=C=[C]C#[C-]', 'C#CCC', 'Cc1cc2ccccc2cc1C', '[C-]#C[C]=C=[CH+]', 'C=C/C=C/C', 'CCCCN', 'C[S@](=O)CCO', 'C=COCC', 'C/C=C\\\\C=C/C=N\\\\O', 'NC(=O)CO', 'N#CN=C=S', 'COc1cc2ccccc2cc1C#N', 'COc1ccc2c(c1)CCC=C2', '[C-]#[N+]C=C', 'C#CCC#CCC#CC', 'c1ccc2c(c1)CCCO2', 'C=CN=C', 'C#CC(=O)C#C', 'CCCO', 'CN=[N+]=[N-]', 'N#CC#CC#CCO', '[C-]#CC#CC#CC#CC#C', '[C+]#C[C+]C#[C-]', 'CCN=C=O', 'CCC1=CC=CC1', 'C#CCC(C#C)C#CC', 'C=CCC', 'CCOO', 'C1=Cc2ccccc2C=CC1', 'C#CC#CCC', 'N#CC[C@H]1CO1', '[CH2]CC=C', 'C#CCCC#CC#CC', 'NC=S', 'C=C1C(=C)C2C=CC1C=C2', 'CC(=O)C=CO', 'CC#CC=CCO', 'C=CC=S', 'C1=CC#CC=1', 'C[s+]1cccc1', 'Cc1cc2ccccc2s1', '[C-]=C=[CH+]', 'C=C[C@@H](C)O', 'C=CCc1ccccc1C#N', 'C=C(C)CN', 'CNC(=O)C=O', 'CCCS', 'C1CSC1', 'S', 'C/C=C/SC', 'CC#CC=CC', 'N=[SiH+]', 'C=CC#CC#CC#CC#CC=CC', 'Cc1ccc2c(O)cccc2c1', 'O=CCO', 'C#CC#CC#CC1CO1', 'CNCCS', 'C=C(C)OC=O', '[C-]#CC#[NH+]', 'COc1ccccc1-c1cccs1', 'C1=CCCC=C1', 'C=[N+]([O-])O', 'C#CSC', '[NH]', 'COCO', 'Oc1ccc2c(c1)NCC2', 'C#C[C+]=N', 'C=C1CCCC1=C', 'CCC(=O)O', 'CC=[O+]', 'C=CCc1ccccc1C', 'N=C=[O+]', 'NC(=O)CS', 'OC=[OH+]', 'Cc1cscc1N', 'N=[N+]=N', 'P1=PP1', 'CC#CC1=CCN=C1O', 'COC=O', 'C=C[C@H]1CO1', 'C#CCCOC', 'C=C(C)C=CC', 'C=c1ccccc1=C', 'C[C@@H](S)CN', 'C/C=C/C=C/C=O', 'CCCOC=O', '[CH+]=[C]C#CC#CC#CC#N', '[CH+]=C=S', '[C+]#CC#N', '[CH2]S', 'C[C@H]1CN1', 'CCC#CC#CCO', 'C=C[C@@H](C)NC', 'C#CC#CC#CC#C[C+]=C=[N]', 'C#CCCC(C#C)C#C', 'CC(C)S', 'C#CCN', 'O=C=C=C=C=C=O', 'C1=C=C=C=C=1', 'Cc1ccc2ccccc2c1', 'O=NCCO', 'C=CC=N', 'C=CC[C@H](C)N', 'CCN=C=S', 'C=CC#CSCC', 'C=Cc1ccccc1CCO', 'C/C=C/C=C\\\\CCC', 'OC/C=C\\\\CO', '[C]#CC#[C-]', 'Cc1csc2ccccc12', 'CC(N)CS', 'C1=CCOC1', 'O=CC=CCO', 'C#CCC=O', 'CC#CC#CCOC', 'C#CC#CCC#CC', 'C#CCCCC#C', 'C=C=C=C=C=C=[C][CH2+]', '[CH+]C#N', 'N#CS[O-]', '[CH2]CC#N', 'NC(=O)C=O', 'CC#CC#CSC', 'OC1CC1', 'C/C=C/C=C/CN', '[SH2+]', 'CC#CCC', '[O]O', 'c1ccc2c(c1)CNCO2', 'C#CC#CC', 'CCO/C=N/C#N', '[CH]=CC#C', '[CH2]CCCO', 'C#CC#CC1OC1C#C', '[O+]S', 'C#CC#CC1COC1=N', 'COc1ccc2c(c1)CC=C2', 'C=CCN=[N+]=[N-]', 'C#CCCC#CCC#N', 'CC=NC', 'CCCNC', 'C1=CCSC=C1', 'CSCC=Cc1ccccc1', 'CC#CCC#CC#N', 'CC1=CCCO1', 'CN[C+]=O', 'Oc1ccc2c(c1)CC2', 'C=C/C=C/CCN', 'OC/C=C/CO', 'O=CCCO', 'CC', 'C#CC#CC(=O)CC#C', 'C1=CC[SiH2]C=C1', 'CC=C1C=Cc2ccccc21', 'CN=N', 'CC(C)=O', 'C/C=C\\\\CN', 'c1ccc2c(c1)CNN2', 'Cc1ccccc1Nc1cccs1', 'CC/C=N/O', '[C-]#C[C-]=C=[CH+]', 'CCc1cc2ccccc2o1', 'COOC', 'CCC[NH3+]', 'CC(=O)c1ccc[se]1', 'C#CC#C', 'C#Cc1ccccc1', 'CC1=CCCS1', 'N#CC#CC=O', 'CCOC', 'C[N+](C)=CO', '[OH3+]', 'C#CC#[NH+]', '[S]S', 'C[SiH3]', 'C#C[C+]=C=C', 'C=[OH+]', '[PH2+]', 'C=CC1C=CCC1', 'COc1ccc2c(c1)C=CCC2', 'COC=COC', 'C1#CC1', 'C=C[CH2+]', 'CC1=CCSC1', 'C=C(O)c1ccccc1', 'C#CC#CCC#CC#N', 'C#CC=CC=CC#C', 'C=CC[SiH3]', 'c1ccc2c(c1)SCS2', 'Cc1ccc(O)cc1', '[CH+]=C', 'CC(N)=C1C=CC=C1', 'CCC=S=O', 'C[C@H]1N=CCS1', 'C#CC(=C)O', 'C#CCON', 'C=C=O', 'C=[C][CH2+]', 'Cc1ccc2cccc-2cc1C', 'C=Cc1ccc(C)s1', 'CCOC#N', '[N-]=[N+]=NC1CC1', 'O/C=C/CCO', 'CCCc1cccs1', 'C#CCS', 'C=CN=C=S', 'CC=CC', 'N=C=[S+]', 'CC(C)C', '[C]#CC#CC#CC#C', 'C1=CNC=CC1', 'C/C=C\\\\CC', 'C#CC#CC(=O)C#C', 'C=CCC=O', '[SiH]#[S+]', 'CC1C=C1', 'C1#C[SiH2]1', 'CC#CC#CC#[NH+]', 'C#CC(C#C)C#CC=O', '[SH+]', 'Cc1ccc2sc(N)cc2c1', 'C1CN1', '[C+]#C[C]=C=C', 'C#CCC=CC', 'N#CC=CC=CC#N', 'CSC', 'CCC(=O)[OH2+]', '[SiH3]N=C=S', 'C1=COCC1', 'O=C1CSC1', 'C#CC1CC=CC1', '[C+]S', 'C=CN=O', '[N-]=O', 'CC(N)=CC#N', 'C/C=C\\\\C=C\\\\C', 'C#CCCC=C', 'C/C=C/CO', 'C=CC/C=C\\\\C', '[S-]S', 'N#CSCN', 'N#CC1CO1', 'CC1=CSCC1', 'C=C[N+](=O)[O-]', 'C#CC#CCC#CC#C', 'CC=CCc1ccccc1', 'N=O', '[C-]#CC#CC#[S+]', '[CH2-]C=C=[N-]', 'O=[N+]([O-])[O-]', 'C=CN(C=C)C=C', 'CC(=O)O', '[C]#[O+]', 'Cc1cc2ccccc2[se]1', 'Cc1cscc1CN', 'C#CCC(C#C)C#C', 'CC(C)[O-]', 'C=C1C=Cc2ccccc21', '[NH2+]', 'C=CC1CO1', 'NC[C@H]1C=CN=N1', 'CC=CC=O', 'C[C+]=[N]', 'C1=CC=C2C=CC=CC(=C1)C2', 'Nc1ccco1', 'COc1ccc2sc(N)cc2c1', 'O=C1CC(c2ccccc2)C1', 'C[C@@H](N)c1cccs1', 'CC=C1C=CC=C1', 'C[C@H]1CO1', 'C=C=N', 'C=CC', 'CNC=O', 'C#CP', 'N#CCCS', 'N#CC[C@@H]1CO1', '[C+]=N', 'c1ccc2ccccc2c1', '[NH3+]O', 'C=C', 'CCON', 'O=CC#CCC=O', 'C[CH]C', 'N#C[S-]', 'COC(=O)C[NH3+]', 'O=N[O-]', 'CCNC=O', 'C=C/C=C/CCO', 'C=C[C@@H](O)CC', 'C#CCN=C=S', 'C[C@H](N)c1cccs1', 'CC1CS1', 'C#CC(C#C)CC#CC', 'CC#CC#CCO', 'O=[PH]=O', '[C-]#[N+][O-]', 'CC1=Cc2ccccc2[C@H]1O', 'C#CCC#CC#CC=O', 'C#CCC=C', 'C#COC', 'CC(C)C=CO', 'c1ccccc1', 'c1ccc2c(c1)CCC2', 'c1ccc2c(c1)NCCO2', '[C+]#CC#CC#N', 'c1ccc2c(c1)CCNC2', 'C=CC(C)C', '[C-]#[N+]O', 'C#CCC#CC#CCO', 'S=C[S-]', '[C+]#CC#C[S-]', 'CCSC=O', 'CC1=Cc2ccccc2[C@@H]1O', 'C=CN', 'O=C1CCC=C1c1ccccc1', 'C#CCOC(C#C)C#C', '[SH]', '[2H]C=O', 'C=C(C)C#CC', 'C=CCO', 'CC1=CC=CC1', 'N#CC1=CCCC1', 'CNCC#N', 'C=C=CC(C)=C=C', 'C#CCO', 'C1=CCNC1', 'CC#C[CH4+]', 'Cc1cccs1', 'C=C=CCC=C', '[C-]#[N+]C=C=C', 'C[CH]C#N', 'CC#CC#CC#CC=CCO', '[SiH3]C1C=CC=C1', 'CNc1cccs1', 'CC1CN1', '[O+][SiH3]', 'C=[N+](C)C', 'Cc1ccccc1C#N', '[CH2]CCC', 'O=C=O', 'CCC#N', 'C=C[C@H](C)NC', '[C-]#[N+]C#CC#C', 'CCC#CC#N', 'N#CC(=C=O)C#N', '[C+]C#[C-]', 'COCC=O', 'Cc1cc2ccccc2o1', 'C=C(C)c1cccs1', 'CC(=O)CS', 'C=C=C=[O+]', 'O=CC1C=CC=C1', 'CS[SiH3]', 'O=C1C=C(c2ccccc2)C1', 'C=C=C=C=C=[C+]C#CC', 'O=Cc1cccs1', 'CC(C)=CO', 'CC#CC=O', '[C+]#CC#CC#C', 'O=C[O-]', 'N#CC1C=CC=C1', 'N#CCCP', 'N#CC#CCC#CCO', 'CSO', 'C#CC=CC=CC=O', '[OH2+]', 'C#CC', 'C=CNC', 'C=CNC=O', 'C=C[C@H](O)CO', 'CC(C)N', 'C#CO', '[2H]N=CO', 'CC#[N+][O-]', 'C=CCSCc1ccccc1', 'CCNCC', '[NH3+]', 'CC=N', 'C#CCCO', 'NC=O', 'C=C1CCc2ccccc21', 'C#CC#CCCCC#C', 'OCC1C=CC=C1', '[C-]#CC#C[C-]=C=C=C=[CH+]', 'C1=Cc2ccccc2CN1', 'C1=Cc2ccccc2CC1', 'O=CCc1ccccc1C=O', 'C#CCC#CCC#C', '[NH3+]CCO', 'CCC#CCO', 'C/C=C(/C)C#N', 'N=CN=CO', '[SiH3]c1ccco1', 'C=CC#CC#N', 'C=C/C=C\\\\CC', 'CP', 'C/C=C\\\\CCO', 'C#CC#CCCC#C', 'O=NO[O-]', 'C1=CC2C=CC1C2', 'C/C=C/C', 'Nc1ccc2c(c1)COC2', '[C-]#CC#[O+]', '[CH+]=[C]C#CC#CC#N', 'N#CCC#CC#CC=O', 'C=NN', 'CC#CC#CCCO', 'Cc1ccc([SiH3])cc1', 'CCC(N)=O', '[CH2-]c1ccco1', 'C#CC(=O)C#N', 'Cc1cscc1C=O', '[CH]1CC1', '[CH2+]', 'COC', 'CCCC[SiH3]', 'CCO', 'N#CCC#CC=O', 'C#CC#CC1CCO1', 'CCCC', '[C-]#CC#C', 'C#[O+]', 'C=CCC=C', 'COCC#CC#CC#N', 'C[NH2+]Cc1ccccc1', 'C=C=CC', 'C=C[C@H](O)CN', 'C=CC=C', 'C=C=C=C=C=C=C', 'C=C(N)C#N', 'CC#CC#[NH+]', 'C#CC#CCN=CO', 'N#CCC=O', '[C]#[C+]', 'C/C=C/C(O)O', 'C=C/C=C\\\\C=C', 'O=[PH2]O', 'C1=CC2C=CC1N2', 'CSCC#N', 'CC/C=C/CC', '[C+]#C[C-]=C=[CH+]', 'C=C/C=C\\\\CCC=C', 'CC=CN=C=O', '[C]#[N+][O-]', 'O=[O+]', '[C+]#CC#C[C]=C=C=C=[C-]C#[C+]', 'C#CC#CCC#N', '[CH5+]', 'C#CC#C[C+]=C=C=C', '[NH+]', 'C#C[SiH2]', 'c1ccpcc1', '[SiH3]S', 'C=CSC=C', 'CN1C=CCC1', 'C1=CCc2ccccc2C1', 'CCCCC', 'C=C=CCCO', 'C#C[CH2]', 'C=CCNC', 'C#CC1C=CC=CCO1', 'N#CC#CC#CC#N', 'O=CC#CC#CC=O', 'C#CCC#CCOC', 'c1c[cH+]1', 'C=CC(=O)C#N', 'C=COC=O', 'CC/C=C/C=C\\\\CO', '[PH3+]', 'C#CC#CC#CCO', 'C=Cc1ccc(O)cc1', 'C#C/C(C)=C\\\\CO', 'CC(C)[SiH3]', '[N-]=C=O', 'C=C=CC=CC', 'Cc1ccc[te]1', '[C+]1=CC=CC=C1', 'C1=CC=1', '[C+]#CC#C[N-]', 'C=CC=O', 'C=CC=CC=O', 'N#CC=CCC#N', 'C#CCNCC=C', 'CCC(=O)[O-]', 'c1ccc2c(c1)C2', 'C#CCC#CC(O)C#C', 'N/C=N/O', 'C=CC(C=C)=CC', 'C1=c2ccccc2=CC1', 'N=C=O', 'N#C[C@H]1CN1', 'N#CS', 'C=C=C=C=C', 'Cc1cccc2cccc-2c1C', 'C=C=[N]', '[C]#CC#CC#CC#CC#[C+]', 'C#[N+][S-]', 'C1=NCC1', '[CH4+]', 'CC[O-]', 'C=C/C=N\\\\COC', 'C1=CCC=C1', 'C[C@H](N)c1ccccc1', 'Cc1cccc(N)c1', 'CNOC', 'CCCCP', 'N#CCC#CC#CCO', 'C=CC=CC#N', 'O=Cc1ccc2c(c1)C=C2', 'C#CC=CCC', 'C=CCCC#N', '[2H]C', 'C#CCC#CCO', 'C=C1CN1C', '[C+]#CC#C[S]', 'CC#CC#CC#CCC', 'CC/C=C/C#N', 'C=C(C)CC#N', 'C1=CCNC=C1', 'C[S@](=O)CC#N', 'N[O-]', 'C=C1C=C(C)C1', '[C+]#CC#C[C-]=C=C=C=[CH+]', 'C=[S+]', '[CH2+][CH]C', 'CCC1=CCC=C1', 'OCO', '[C]=C=C=C', '[C-]', 'CC(C)=N[O-]', 'O=C1C=CC1', 'C#CC=CCO', '[CH2]C=C', '[C]#CC#[C+]', 'CCc1ccco1', 'C#CCC1=CCN=C1O', 'C#CC#CC#CC#C[C]=[CH+]', 'C=C(C)O', 'CC(=O)C#N', 'N#CCN=[N+]=[N-]', 'Cc1csc(-c2ccccc2)c1', 'O=[O+][O-]', 'C=CCCOC', 'Cc1csc(C)c1', '[C-]#C[C+]C#[C-]', 'Cc1ccc2c(c1)NCC2', 'C#CCCC#CC', 'C=C[C@H](C)N', 'CC/C=C/C=C/CO', 'c1ccc2c(c1)OCCS2', 'C=NN=C', '[CH+]=C1C=C[CH-]C=C1', 'N=C1C=CCO1', '[C+]#CC#C[C-]=C=[C+]C#[C-]', 'C=CCNc1ccc2ccoc2c1', 'C=CCCN', 'C=C(C)C#N', '[N]=S', 'CC#CC#CC#CCO', 'C#C', 'CS(C)=O', 'S=C=C1C=CC=C1', '[C]#CC#CC#N', '[N-]=[N+]=C1C=CC=C1', 'C#CC1=CCOC1', 'CC(C=NO)=C1C=CC=C1', 'O=NCO', 'N#CC#CC#CC=O', 'C=CC=CSC', 'C1=COC=CC1', '[C]#[S+]', 'N#CN=O', 'C#CCSC', 'C=[O+]', 'O=CC1CC=CC1', 'CCc1cscc1C', 'CO/C=C\\\\OC', 'C#CCCCS', 'C#C/C(C)=C/CO', '[C]#[N+]O', 'C1=CC=CC=CC=C1', 'O=c1cccccc1', 'C', '[C+]#CC#CC#[C-]', 'C#CC#CC#CC(C)C', 'C=Cc1ccc2c(c1)CCO2', '[S-]', 'C#CC#CC#CC', 'C#CC#CC#CC1OC1CO', 'C#CCC#CCC=O', 'CC#CC#CCCC#N', 'C=O', '[C+]=C[O]', 'C/C=C/CCO', '[N-]=[N+]=NCC=O', 'C#CC#CCCCC', '[C+]#CC#CC#CC#CC#[C-]', 'CCc1cccs1', 'C[SiH]=O', 'CC[c-]1cccc1', 'C#CC#CC#CC#CC#[NH+]', 'O=C=N[SiH3]', 'Cc1cc1=O', 'C#C[C]=[CH+]', 'Cc1coc2ccccc12', 'C#CC#CC#CC#CC#N', '[C-]#[N+]C', 'c1ccc2c(c1)NCS2', 'C1=Cc2ccccc2C1', 'C#CC#CC(C#C)CO', 'SCCc1ccccc1', 'C=C1C=CC=C1', '[SiH]', 'CCCCO', '[2H][NH]', 'C1=CCCC1', 'N#CSN', 'C#CC#CC#CC#C', 'C[C@@H]1C[C@H]1N', 'C=NCC#N', 'CN1CC1', 'C#CC#CC1COC1', 'C=C[C@@H](C)CO', 'COc1ccc2c(c1)CCN=C2', '[C-]#[N+]C#C', '[CH+]=C=[N-]', 'CCN=[N+]=[N-]', 'C#CCC#CC(=O)C#C', 'C=C=C=[C][CH2+]', '[C-]#[O+]', 'C#CC#CCOCC#C', 'C=C=[C+]C', '[C+]#CC#CC#CC#N', 'C1=CSCC1', 'C#CC=CSC', 'CC1=Cc2ccccc2C1O', 'CCC(=O)C#N', 'N=CN', 'CCC/C=C\\\\CO', 'C#CC=CSCC', 'C#C[C+]=C=[N-]', 'N=S=O', 'N#CC(=C=N)C#N', 'C#CC#CC#C[C]=[CH+]', 'C#C[C+]=C=O', 'C#CCNO', 'C1#CC=CCCC=C1', '[C-]#[NH+]', '[CH2+]N', 'C=Cc1cccs1', 'O=C1CCc2ccccc21', 'C#C[C]=O', 'COP=S', 'N#CC1CC1', 'C1=CC(c2ccccc2)C1', 'C=CC#CC=CC', 'CCNCC#N', 'CC[SH2+]', '[C]#CC#CC#CC#CC#[C-]', 'CC=C(C)O', 'C#CC(N)=O', 'C[C@H](N)C#N', 'C=CC=C(CC)c1ccccc1', '[C+][N+]#[C-]', 'OCC[S-]', 'C#CC(C#CC)C#CC', 'C#CC#CCCOC', 'CN(C)C', 'C=CC[CH2-]', 'C#CCC#CC=O', 'NCC(=O)S', 'C=Cc1ccc2c(c1)O2', 'CC(N)C#N', 'CC1=CC1', 'O=S1CC1', 'N=C1C=CC(O)=N1', 'C#CC#CCOC=O', 'NC=CS', 'C=C1OC=CC1=O', 'N#CCC1=CC=CC1', 'C/C=C\\\\SC', 'C=CC#CSC', 'OC/C=C\\\\C=C/CO', 'C=C=CCC', 'CCC[N+]#N', 'CNC', 'CC[C@H]1CO1', 'C#CC1=CC=CC1', 'N#C[C@H]1CO1', 'C=CC1=C(C=C)CC1', 'C#CC1C=CN=C1O', 'CC#[O+]', 'C=CC1C=Cc2ccccc21', 'C1=CCP(c2ccccc2)C1', 'C=C(N)CC#N', 'CCNO', '[C+]#CC#CC#CC#CC#N', 'c1ccc2c(c1)CSC2', 'CC(C)=CC#N', '[NH]c1ccccc1', 'C#CC#CC(=O)C#N', 'COc1ccc2c(c1)C=CC2', 'C#CC1CO1', 'C/C=C/C=C/CO', 'Cc1cccc(O)c1', 'C=PC', 'CC#CCN=CO', 'CCS', 'OC=CO', 'C1=CC2(C=CC2)C1', 'C=CN(C)C', 'C#CC#CC(C#C)C#C', 'N=S=N[S-]', 'CC1=C=C[N]C=C1', 'C=C(C#N)c1ccccc1', 'C[c-]1cccc1', '[SiH4+]', 'CC1C=NN=C1', 'O=C=[OH+]', 'C=CSCc1ccccc1', 'CC=S', 'C[C@@H]1CO1', 'C=C/C=C\\\\C', '[C-]#C[C+]=N', '[O][S+]=O', 'C1=CNCC1', 'C=C=C=O', 'C1=CC[SiH2]C1', 'C#CC1=CCOCC=C1', 'O=CNCO', 'NC1=[NH+]Cc2ccccc21', 'C#CC(=O)C#CC#CC', 'C=C1CC(N)C1', '[SiH3]', 'CC1=CCC=C1', 'CC=[N+]([O-])O', 'CC=Cc1cccs1', '[S-]c1ccccc1', 'C=C=C=C', 'N=C=S', 'CN=[N+](C)[O-]', '[C-]#C[CH2+]', 'C=C1Cc2ccccc2C1', 'CC[O+]', 'C=CC=CCO', 'C=C1CC=CC1', 'C[PH](C)=O', 'C=CCC/C=C/C', '[C]=C=C=C=C=C', 'C1=Cc2ccccc21', 'C1=CCOC=C1', 'C=C(C)OC', 'CC[C@H]1CN1', 'N#CC1CN1', '[CH2+]CC', '[C]#CC#CC#CC#CC#N', 'C=C1CC(=C)C1', 'CNC(=O)C[NH3+]', 'CC/C=C\\\\CCO', 'N#[N+][S-]', '[O-2]', 'CC#CCO', '[CH+]=C=[N]', 'N=C1SCc2ccccc21', 'CC[SiH3]', 'C=CC=NCC#N', 'C=C=CCC=O', 'C[C@H](O)c1ccccc1', 'C=C=CSC', 'Oc1cccc2c1CC=C2', 'O=CO', 'N=CS', 'C#CC#CC#N', 'C#CC(C#C)C#CC', 'S=S', 'CO', 'C#CCNCC#C', 'CC#CC#CCC=O', 'OCCS', 'O=CCC=O', 'N#CC1CC=CC1', 'C#CCOCC#N', 'CN=O', 'C=COC(C)=O', 'C/C=N/O', 'CC1=CCN=C1O', 'O=C=C=C=S', 'CC=CCS', 'NCc1cccs1', 'O=C1CC[NH2+]C1=C[O-]', 'C#CCSC=C', 'Cc1ccc2c(c1)CC=C2', 'CC[N+]#N', '[C+]#CC#CC#CC#[C-]', '[C-]#[N+]CC', 'CSCC=O', 'C=CC(=O)CC', 'C=C1CCSC1', 'C=Cc1ccc2occ(C)c2c1', 'N#CC#CC#CCC#N', 'CC/C=C/CN', '[C-]#CC', 'C/C=C\\\\C=C\\\\CC', 'C[C@H]1CS1', '[C-]#CC#C[CH2+]', 'N#CC1CC=CC1=O', 'C[SiH](C)O', 'CCC#CCC#N', 'C=CO', 'CC#[S+]', 'CC=O', 'C=C1COC1', 'Cc1cc(C#N)cc2ccccc12', 'O=NO', 'N#CCc1cccs1', 'N#CCO', 'C=CCON', 'C#CC#CCO', 'CC(C)=C=N', 'OCc1ccc2c(c1)C=C2', 'Cc1ccc2c(c1)C=CC2', 'N=S', '[C]#CC#[S+]', '[C+]#CC#CC#C[CH2-]', '[C+]#C[O-]', 'CC=CCN', '[CH2+]C#N', 'CC1=COCC1', 'C[C+]=N', 'C#CCOCC#CC#N', 'C=CC=COC', 'CC#Cc1ccccc1', '[N]=[C+]S', 'N#[O+]', 'C[C+]=[C]C#N', 'C[OH2+]', 'CN=C=S', 'C=CSC', '[C-]#C[N+]#C', 'CC=CC=CC#N', 'CCCOC#N', 'C#Cc1ccccc1O', 'CSCc1ccccc1', 'C#CC#CCC#CCC', 'N#CC#CC#CC1CC1', 'C=Cc1ccccc1C1=CCOC1', 'C#CC#CC#CC#[NH+]', '[C+]#[C-]', 'C=C[C+]=N', '[C+]#C', 'C#[N+][O-]', 'CSC=Cc1ccccc1', '[CH2+]CCC', 'Cc1cscc1C', 'NC1CC=CC1', 'C=C[C@H](C)O', 'S=CS', 'C#Cc1ccccc1C#N', 'C=C=S', 'C=CCSC#N', 'C1=CCC=CC1', 'CCC=CO', 'C=CC(=O)CO', 'COC(=O)C=O', 'C=C=C(C)C', 'N=[S+]', 'C[C@H]1CC=NN1', 'C=CC=NO', 'C[SiH](C)[SiH3]', 'C#Cc1ccco1', 'C#CSCC', 'CC1(c2ccccc2)C=C1', 'C=C=CC=O', 'C=CCCO', 'CNSC', 'C#CC#CC1CC1C#C', '[C+]#CC#[C-]', 'C#CC#N', 'C1=CC2C=CC=CC(C=C1)C2', '[C-]#N', 'ONO', 'Nc1ccc2c(c1)OCC2', 'C=C=C=C=[N]', 'O=CC1=CCCC1', '[C+]#CC#C[C]=C=C=C=C', 'C1CO1', 'C#CC#CC(C#C)C=O', 'NC1CC1', 'C1=COc2ccccc2C1', 'OS', 'C1=CC=C1', 'C/C=C/CC', 'CC#CP', 'C#CCC#CC', 'C#CSO', '[C+]=C=C', 'CC(C)O', 'C=C(CC)CN', 'C#CC=CC#C', 'N=C=N', 'CCN', 'N#CC=C=O', 'CC(C)N=O', 'C#CCOCC#C', '[C]#C[C]=O', 'C#CC#CC(O)C#C', 'C[PH]', 'CNC(=O)CS', 'NN=O', 'C=C1CCO1', 'O=Cc1ccc2c(c1)CC2', 'CS', 'COC=CC#N', '[CH2-]C=C[CH2-]', 'C#CC(=C)C', 'CC=NCC#N', 'C#CCC=C=C', 'Cc1ccc2c(c1)CC2', 'CC/C=C\\\\CN', 'C=[SiH2]', 'CP1CC=CC1', '[NH2]', 'O=C=C=O', 'CN=CO', 'N#[NH+]', 'CC1C=COC1', 'C#CC#CC=O', 'C#CCOC=N', 'C=C(C)C', 'S=[S+]', 'C#CCC#CCCO', 'C#CC=CC', 'C#CC#CCC=O', 'NC/C=C/CO', 'NCCC[SiH3]', 'CC#N', 'N#CC#CCOC=N', 'CCS(=O)[O-]', 'C=CCC=CC', 'CCPCC', 'N#CCC#CCO', 'C#CC#CC#CC(=N)O', 'Cc1ccc2ccccc2c1C#N', '[C]#CC#C', 'Cc1ccc2ccc(O)cc2c1', '[O+]=C=S', 'Cc1csc(N)c1', 'C=C=COC', 'C=CN=C=O', 'C#CC#CCOC=N', 'CC[OH2+]', 'CCSC#N', 'OCOO', 'Nc1ccc2c(c1)C=CCS2', 'CN=NC', 'C=C/C(C)=C/C', 'C/C=C\\\\[C@H](C)O', 'C/C=N\\\\O', '[O-]', 'C[C@H]1CN1N', 'N#CC#CCCC#N', 'OO', 'C=C[CH+]CC', 'CC(=O)CN', 'C=C(C)CS', 'C=C(C)N', 'C#CCC#CC#CCC', 'C#CC1CN=C1O', 'C=C=C=[C+]C#CC', 'C#CC(O)C#C', 'C#CC(=O)C#CC#N', 'C#CC#C[C+]=O', 'C#C/C=C/C#N', 'O=C1CC=CC1', 'C1=CCC(c2ccccc2)=C1', 'CC#CC#N', 'N#Cc1ccc2c(c1)CC2', '[CH2]O', 'CC#CCCC#N', 'C[C@H](O)CN=[N+]=[N-]', 'N=CC=N', 'O=CS', 'CC=CC#N', '[CH]1C=C1', 'N#CC=CN', 'C#CC1N=COC1=O', '[C]#CC#[O+]', 'C#COC=C', 'NN', 'N#CC/C=C/CC#N', 'CO/C=C/OC', 'C/C=C\\\\CO', 'C1=CC2=CCC=C12', 'C#CC1OC1C#C', 'C#CC1CC1O', 'CCC#CC1CO1', 'C#CCC1CC1', 'CC1CCS1', 'N#CCC1CC1', 'C#CC1CC1C#C', 'CC1OC1C=O', 'C#CC1CCO1', 'C#CC1CCC1', 'CC1CC1O', 'C#CC1NC1C=O', 'CC1CCO1', 'C#CC1OC1C#N', 'C=C1CC1C', 'C1C2CN12', 'CC1CC1CO', 'C#CCC1CO1', 'C#CC1CC1C', 'CCC#CC1CN1', 'CC#CC1CC1', 'C=CC1CC1C', 'CC#CC1CO1', 'C#CC1CC1OC', 'C#CC1OCC1C', 'CC1CN1C', 'C#CC1NC1CC', 'C#CCC1CN1C', 'C#CC1OC1C=O', 'C#CCC1NC1C', 'CC1CC1C#N', 'CN1CC1C#N', 'CC1CC1C', 'C#CC1OC1CC', 'CC1CN1C=O', 'C#CC1CC1C#N', 'CC#CC1NC1C', 'CC#CC1COC1', 'CC1CC1', 'N#CCC1CS1', 'SCC1CC1', 'C#CCCN1CC1', 'C1C2CC12', 'SC1CCC1', 'CC#CC1OC1C', 'CC1CSC1', 'CCC1CC1', 'C#CC1CN1C', 'CC1COC1', 'C#CC1NC1C#N', 'C#CCCC1CO1', 'C#CC1NC1C', 'C#CC1NC1C#C', 'CC1OC1C', 'C#CC1OC1C', 'C#CCC1OC1C', 'C#CC1NC1CO', 'C#CC1CC1C=O', 'C#CC1COC1', 'CCC1OC1C', 'C#CCC1COC1', 'C=C1CC1C=O', 'CC#CCC1CO1', 'C#CC1CN1C=O', 'CC#CCC1CN1', 'N[C@H]1C=CCC1', 'C#CCC1CC1O', 'CC#CC1CN1', 'N#CC1CCC1', 'C#CCNC1CC1', 'COC1CC1', 'C#CCOC1CC1', 'CC1NC1C', 'CCC1CO1', 'CC1=NC1C', 'C#CCN1CC1C', 'CC1SC1C', 'C#CC1CN1CC', 'CC#CCN1CC1', 'C1CCC1', 'N#CC1CC1C#N', 'CC#CC1CC1O', 'CC1CC1C=O', 'N#CC1CC1C=O', 'C#CC1CC1CO', 'CC#CC1CN1C', 'O=C=c1cc1']\n"
     ]
    }
   ],
   "source": [
    "#this should be replaced with  one loop in cell below;check\n",
    "formula =[]\n",
    "for i in listy:\n",
    "    formy=i['Formula']\n",
    "    formula.append(formy)\n",
    "#print(formula)\n",
    "\n",
    "smilesstring = []\n",
    "for i in listy:\n",
    "    smiley = i['SMILES']\n",
    "    smilesstring.append(smiley)\n",
    "#print(smilesstring)\n",
    "\n",
    "rota =[]\n",
    "for i in listy:\n",
    "    rotya=i['A']\n",
    "    rota.append(rotya)\n",
    "# print(rota)\n",
    "\n",
    "rotb =[]\n",
    "for i in listy:\n",
    "    rotyb=i['B']\n",
    "    rotb.append(rotyb)\n",
    "# print(rotb)\n",
    "\n",
    "rotc =[]\n",
    "for i in listy:\n",
    "    rotyc=i['C']\n",
    "    rotc.append(rotyc)\n",
    "# print(rotc)\n",
    "\n",
    "mua = []\n",
    "for j in listy:\n",
    "    muay = j['mu_a']\n",
    "    mua.append(muay)\n",
    "#print(mua)\n",
    "\n",
    "mub = []\n",
    "for k in listy:\n",
    "    muby = k['mu_b']\n",
    "    mub.append(muby)\n",
    "#print(mub)\n",
    "\n",
    "muc = []\n",
    "for i in listy:\n",
    "    mucy = i['mu_c']\n",
    "    muc.append(mucy)\n",
    "    \n",
    "intSmile=[]\n",
    "for i in listy:\n",
    "    intsmiley=i['SMILES']\n",
    "    intSmile.append(intsmiley)\n",
    "print(intSmile)\n",
    "\n",
    "# abInitCalc  =[]\n",
    "# for i in listy:\n",
    "#     abi = i['not_opt']\n",
    "#     abInitCalc.append(abi)\n",
    "\n",
    "colDens = []\n",
    "for i in listy:\n",
    "    cd = i['log_column']\n",
    "    colDens.append(cd)\n",
    "#print(colDens)"
   ]
  },
  {
   "cell_type": "code",
   "execution_count": null,
   "metadata": {},
   "outputs": [],
   "source": [
    "#creation of all relevant lists\n",
    "formula =[]\n",
    "smilesstring = []\n",
    "rota =[]\n",
    "rotb =[]\n",
    "rotc =[]\n",
    "mua = []\n",
    "mub = []\n",
    "muc = []\n",
    "intSmile=[]\n",
    "colDens = []\n",
    "abInitCalc  =[]\n",
    "\n",
    "\n",
    "for i in listy:\n",
    "    formy=i['Formula']\n",
    "    formula.append(formy)\n",
    "    smiley = i['SMILES']\n",
    "    smilesstring.append(smiley)\n",
    "    rotya=i['A']\n",
    "    rota.append(rotya)\n",
    "    rotyb=i['B']\n",
    "    rotb.append(rotyb)\n",
    "    rotyc=i['C']\n",
    "    rotc.append(rotyc)\n",
    "    muay = i['mu_a']\n",
    "    mua.append(muay)\n",
    "    muby = i['mu_b']\n",
    "    mub.append(muby)\n",
    "    mucy = i['mu_c']\n",
    "    muc.append(mucy)\n",
    "    intsmiley=i['SMILES']\n",
    "    intSmile.append(intsmiley)\n",
    "    cd = i['log_column']\n",
    "    colDens.append(cd)\n",
    "#     abi = i['not_opt']\n",
    "#     abInitCalc.append(abi)\n",
    "    \n",
    "    \n",
    "#print(formula, intSmile)\n",
    "    "
   ]
  },
  {
   "cell_type": "markdown",
   "metadata": {},
   "source": [
    "so the next few cells are modifying the values in our lists from the .csv file. they include filling in blanks with 0, and modifying the rotational constants into scientific notation that spcat can read."
   ]
  },
  {
   "cell_type": "code",
   "execution_count": null,
   "metadata": {},
   "outputs": [],
   "source": [
    "#this replaces any blanks in the .csv files with 0 for any missing rotational constant values. \n",
    "rota_replaceblanks = ['0' if x=='' else x for x in rota]"
   ]
  },
  {
   "cell_type": "code",
   "execution_count": null,
   "metadata": {},
   "outputs": [],
   "source": [
    "newrotA = [float(x) for x in rota_replaceblanks]"
   ]
  },
  {
   "cell_type": "markdown",
   "metadata": {},
   "source": [
    "now, i have a list of floats, and i want to change them into sci notation"
   ]
  },
  {
   "cell_type": "code",
   "execution_count": null,
   "metadata": {},
   "outputs": [
    {
     "name": "stdout",
     "output_type": "stream",
     "text": [
      "2.91E+03\n"
     ]
    }
   ],
   "source": [
    "from decimal import Decimal\n",
    "finalrotA = []\n",
    "for i in newrotA:\n",
    "    forma = '%.2E' % Decimal(i)\n",
    "    finalrotA.append(forma)\n",
    "    #print(forma[0])\n",
    "print(finalrotA[15])\n",
    "#print(type(finalrotA[20]))#mysteroiusly it is a string again?"
   ]
  },
  {
   "cell_type": "markdown",
   "metadata": {},
   "source": [
    "for rotb"
   ]
  },
  {
   "cell_type": "code",
   "execution_count": null,
   "metadata": {},
   "outputs": [],
   "source": [
    "rotb_replaceblanks = ['0' if x=='' else x for x in rotb] #seems alright\n",
    "#print(rotb_replaceblanks)\n",
    "newrotB = [float(x) for x in rotb_replaceblanks]\n",
    "#print(newrotB)#also seemso k\n",
    "finalrotB = []\n",
    "from decimal import Decimal\n",
    "for j in newrotB:\n",
    "    formb = '%.2E' % Decimal(j)\n",
    "    finalrotB.append(formb)\n"
   ]
  },
  {
   "cell_type": "markdown",
   "metadata": {},
   "source": [
    "now... for c"
   ]
  },
  {
   "cell_type": "code",
   "execution_count": null,
   "metadata": {},
   "outputs": [],
   "source": [
    "rotc_replaceblanks = ['0' if x=='' else x for x in rotc] \n",
    "newrotC = [float(x) for x in rotc_replaceblanks]\n",
    "#print(newrotB)#also seemso k\n",
    "finalrotC = []\n",
    "from decimal import Decimal\n",
    "for k in newrotC:\n",
    "    formc = '%.2E' % Decimal(k)\n",
    "    finalrotC.append(formc)\n",
    "#print(finalrotC)\n"
   ]
  },
  {
   "cell_type": "markdown",
   "metadata": {},
   "source": [
    "# everything in this next few sections is to ensure you are in the right folder.\n",
    "get into the right folder|\n",
    "a large part of this is cause i wanted all the .int/.cat/etc files in a separate subfolder, for organization sake. "
   ]
  },
  {
   "cell_type": "code",
   "execution_count": null,
   "metadata": {},
   "outputs": [
    {
     "name": "stdout",
     "output_type": "stream",
     "text": [
      "/Users/hannahts/Desktop/mcguire group/2. Observational/4. SpectralAutomation\n",
      "<class 'str'>\n",
      "<class 'str'>\n"
     ]
    }
   ],
   "source": [
    "origPath = os.getcwd()"
   ]
  },
  {
   "cell_type": "code",
   "execution_count": null,
   "metadata": {},
   "outputs": [],
   "source": [
    "#this is the variable to change if you want to be in a diff folder. make sure it is in the current folder since \n",
    "#that is all i wrote the code for\n",
    "newFolder = origPath + '/tmc1-fd-2025'"
   ]
  },
  {
   "cell_type": "code",
   "execution_count": null,
   "metadata": {},
   "outputs": [],
   "source": [
    "os.chdir(newFolder)"
   ]
  },
  {
   "cell_type": "code",
   "execution_count": null,
   "metadata": {},
   "outputs": [
    {
     "name": "stdout",
     "output_type": "stream",
     "text": [
      "name/title\n",
      "0  1  1312  00  200  -10  -10 300.0  300\n",
      " 001  0.1947\n",
      " 002  -3.3752\n",
      " 003  1.1111\n",
      "\n"
     ]
    }
   ],
   "source": [
    "#this line  opens and reads a file into string.\n",
    "#historically use for testing. you can skip or delete if you dont want to use it. \n",
    "with open('1.int', 'r') as myFile:\n",
    "    filedata = myFile.read()\n",
    "    print(filedata)"
   ]
  },
  {
   "cell_type": "code",
   "execution_count": null,
   "metadata": {},
   "outputs": [
    {
     "name": "stdout",
     "output_type": "stream",
     "text": [
      "C/C=C/CCN\n",
      "C/C=C/CCN\n",
      "0  1  1312  00  200  -10  -10 300.0  300\n",
      " 001  0.1947\n",
      " 002  -3.3752\n",
      " 003  1.1111\n",
      "\n"
     ]
    }
   ],
   "source": [
    "#here, i try to use .replace with objects from a list\n",
    "#histroically used for testing/checking\n",
    "#targettitle = listy[1]['internal_smi']\n",
    "targettitle = intSmile[1]\n",
    "indexspot = listy.index\n",
    "print(targettitle)\n",
    "filedata = filedata.replace('name/title', targettitle)\n",
    "print(filedata)"
   ]
  },
  {
   "cell_type": "markdown",
   "metadata": {},
   "source": [
    "by comparing the above filedata with the file data just below it, you can see the success of filedata.replace. it has replaced the one area I've asked it to, i.e., the title. now, i'll likely want to for loop this to replace a few times. i don't care if its \"slow\", on a first pass attempt it's what i'll try"
   ]
  },
  {
   "cell_type": "markdown",
   "metadata": {},
   "source": [
    "Creation of the .int files. these are done in such a way that the name of the .int file matches the place in the list of the species. this should match the original .csv file."
   ]
  },
  {
   "cell_type": "markdown",
   "metadata": {},
   "source": [
    "# editing .int"
   ]
  },
  {
   "cell_type": "code",
   "execution_count": null,
   "metadata": {},
   "outputs": [],
   "source": [
    "\n",
    "folder_path = '/path/to/folder/just/created/above/tmc1-fd-2025'\n",
    "length_list = 1000 #change to the number of molecules in the .csv file you are looking at\n",
    "\n",
    "for i in range(length_list): #updated\n",
    "    with open(f'{folder_path}/{i}.int', 'w') as f:\n",
    "        f.write(smilesstring[i] +\"           \"+ \" mlc list_place is  \"+ str(i) + \"\\n\"\n",
    "               \"0  1  1312  00  250  -10  -10 300.0  300 \\n\" +\n",
    "               \" 001  \" + mua[i] + \"\\n\"\n",
    "               \" 002  \" + mub[i] + \"\\n\"\n",
    "               \" 003  \" + muc[i])\n",
    "    \n",
    "            \n",
    "        #  (f write) title - smilesstring[i]\n",
    "        #f write ('spcat values 0 1 etc')\n",
    "        #f write '001'+ (mucA[i])\n",
    "\n",
    "                    \n",
    "                \n",
    "                  \n",
    "    "
   ]
  },
  {
   "cell_type": "markdown",
   "metadata": {},
   "source": [
    "\n",
    "# editing .var"
   ]
  },
  {
   "cell_type": "code",
   "execution_count": null,
   "metadata": {},
   "outputs": [],
   "source": [
    "#for i in range(1510):\n",
    "for i in range(1925):\n",
    "    with open(f'{folder_path}/{i}.var', 'w') as f:\n",
    "        f.write(smilesstring[i] +\"           \"+ \"mlc list_place is \"+ str(i)+ \" NOT \\n\"\n",
    "               \"   8   33   40    0     0.0000E+00     5.0000E+20     1.0000E+00 1.0000000000 \\n\" +\n",
    "                \"a   1  1  0  50  0  1  1  1  1  -1   0 \\n\"\n",
    "               \"        10000   \" + finalrotA[i]  + \" 1.00000000E-37 /A \\n\"\n",
    "               \"        20000   \" + finalrotB[i] + \" 1.00000000E-37 /B \\n\"\n",
    "               \"        30000   \" + finalrotC[i] + \" 1.00000000E-37 /C \\n\")\n",
    "       \n",
    "            "
   ]
  },
  {
   "cell_type": "markdown",
   "metadata": {},
   "source": [
    "# Running spcat\n",
    "this uses the OS terminal and is not done on jupyter notebook itself. As such, you have to keep an eye on the terminal window you opened this notebook with. Even if the jupyter notebook says its done, the OS may still be running. The easiest way to check is to attempt to print like, the length of something like the partFn and see what it does. if it gives you a value, the it's done; if not, it's still running spcat in the background"
   ]
  },
  {
   "cell_type": "code",
   "execution_count": null,
   "metadata": {},
   "outputs": [],
   "source": [
    "\n",
    "import subprocess"
   ]
  },
  {
   "cell_type": "code",
   "execution_count": null,
   "metadata": {},
   "outputs": [],
   "source": [
    "for i in range(length_list):\n",
    "    subprocess.Popen([\"spcat\", f\"{i}.int\", f\"{i}.var\"])"
   ]
  },
  {
   "cell_type": "markdown",
   "metadata": {},
   "source": [
    "# IMPORTANT NOTE!!\n",
    "sometimes, the jupyter notebook will say it's done running spcat before spcat has officially run through all the files. if you open jupyter through terminal (as I recommend), the terminal may show ongoing calculations. WAIT U NTIL THOSE ARE DONE or your results will be bad!"
   ]
  },
  {
   "cell_type": "code",
   "execution_count": null,
   "metadata": {},
   "outputs": [],
   "source": []
  },
  {
   "cell_type": "markdown",
   "metadata": {},
   "source": [
    "## creation of the filecount.sh file and the spcat check flag system file. you will need to ensure you have this file written. i'll have to add that as a code in later. \n",
    "this is a .sh file, totally optional step. "
   ]
  },
  {
   "cell_type": "code",
   "execution_count": null,
   "metadata": {},
   "outputs": [
    {
     "data": {
      "text/plain": [
       "<os._wrap_close at 0x7fc0a88e0310>"
      ]
     },
     "metadata": {},
     "output_type": "display_data"
    }
   ],
   "source": [
    "#this prints the number of files to a text, as a sort of check if you want it. below, i run the command directly\n",
    "#in jupyter so you can see it. you should get 1509, which in this case, is the number of molecules. \n",
    "import os\n",
    "os.popen('sh filecount.sh')"
   ]
  },
  {
   "cell_type": "code",
   "execution_count": null,
   "metadata": {},
   "outputs": [
    {
     "name": "stdout",
     "output_type": "stream",
     "text": [
      "Number of .out files: 1925\n"
     ]
    }
   ],
   "source": [
    "import subprocess\n",
    "#expect number equal to len(partFn). or double, if you're running this AFTER the rest of the script which creates a new *partFn.out\n",
    "\n",
    "\n",
    "command = \"ls -1 *.out | wc -l\"\n",
    "result = subprocess.run(command, shell=True, text=True, capture_output=True)\n",
    "\n",
    "print(f\"Number of .out files: {result.stdout.strip()}\")\n"
   ]
  },
  {
   "cell_type": "markdown",
   "metadata": {},
   "source": [
    "### Flag systems below"
   ]
  },
  {
   "cell_type": "markdown",
   "metadata": {},
   "source": [
    "below calls a file that will check and sort the length of the various .out files to a text file called filelengths.txt. you can easily check to make sure all the files are the same length which will suggest that the next step to pull proper Q is alright as well. "
   ]
  },
  {
   "cell_type": "code",
   "execution_count": null,
   "metadata": {},
   "outputs": [
    {
     "data": {
      "text/plain": [
       "<os._wrap_close at 0x7fc0a897f550>"
      ]
     },
     "metadata": {},
     "output_type": "display_data"
    }
   ],
   "source": [
    "import os\n",
    "os.popen('sh spcatcheck.sh')"
   ]
  },
  {
   "cell_type": "markdown",
   "metadata": {},
   "source": [
    "\n",
    "\n",
    "## Parsing .out Files for calculated partition function Q at 300K"
   ]
  },
  {
   "cell_type": "code",
   "execution_count": null,
   "metadata": {},
   "outputs": [],
   "source": [
    "\n",
    "folder_path = '/path/to/folder/made/above/tmc1-fd-2025'\n",
    "\n",
    "\n",
    "\n",
    "partFn = []\n",
    "\n",
    "for i in range(length_list):\n",
    "    with open(f'{folder_path}/{i}.out', 'r') as rd:\n",
    "        for line in rd:\n",
    "            if line ==\"TEMPERATURE - Q(SPIN-ROT.) - log Q(SPIN-ROT.)\\n\":\n",
    "                break\n",
    "\n",
    "        for line in rd:\n",
    "            temp, Q, logQ = line.split()\n",
    "            if float(temp) == 300:\n",
    "                partFn.append(Q)\n",
    "                break\n",
    "          #  partFn.append(Q)\n",
    "#print(Q)\n",
    "        \n",
    "        \n",
    "        \n",
    "        \n"
   ]
  },
  {
   "cell_type": "markdown",
   "metadata": {},
   "source": [
    "## the cell below replaces the original .int files initial partition function value of 1312 with the calculated one from the list above, partFn"
   ]
  },
  {
   "cell_type": "code",
   "execution_count": null,
   "metadata": {},
   "outputs": [],
   "source": [
    "for i in range(1925):\n",
    "    with open(f'{folder_path}/{i}.var', 'w') as f:\n",
    "        f.write(smilesstring[i] +\"           \"+ \"mlc list_place is \"+ str(i)+ \"\\n\"\n",
    "               \"   8   33   40    0     0.0000E+00     5.0000E+20     1.0000E+00 1.0000000000 \\n\" +\n",
    "                \"a   1  1  0  50  0  1  1  1  1  -1   0 \\n\"\n",
    "               \"        10000   \" + finalrotA[i]  + \" 1.00000000E-37 /A \\n\"\n",
    "               \"        20000   \" + finalrotB[i] + \" 1.00000000E-37 /B \\n\"\n",
    "               \"        30000   \" + finalrotC[i] + \" 1.00000000E-37 /C \\n\")"
   ]
  },
  {
   "cell_type": "code",
   "execution_count": null,
   "metadata": {},
   "outputs": [
    {
     "name": "stdout",
     "output_type": "stream",
     "text": [
      "Replacement done!\n"
     ]
    }
   ],
   "source": [
    "\n",
    "\n",
    "input_directory = folder_path\n",
    "\n",
    "\n",
    "        \n",
    "def replace_value_in_file(old_file_path, new_file_path, old_value, new_value):\n",
    "    with open(old_file_path, 'r') as file:\n",
    "        content = file.read()\n",
    "    \n",
    "    # Replace the old value with the new value\n",
    "    new_content = content.replace(old_value, new_value)\n",
    "    \n",
    "    # Write the modified content to the new file\n",
    "    with open(new_file_path, 'w') as file:\n",
    "        file.write(new_content)\n",
    "    \n",
    "        \n",
    "\n",
    "# Loop through each number in the specified range\n",
    "for i in range(0,1925):\n",
    "    # Construct the original filename and new filename\n",
    "    original_file_name = f\"{i}.int\"  \n",
    "    original_file_path = os.path.join(input_directory, original_file_name)\n",
    "    new_file_name = f\"{i}partFn.int\"\n",
    "    new_file_path = os.path.join(input_directory, new_file_name)\n",
    "    \n",
    "    # Ensure the file exists\n",
    "    if os.path.exists(original_file_path):\n",
    "        replace_value_in_file(original_file_path, new_file_path, '0  1  1312  00  250  -10  -10 300.0  300', '0  1  '+partFn[i]+'  00  250  -10  -10 300.0  300')\n",
    "    else:\n",
    "        print(f\"File {original_file_path} does not exist.\")\n",
    "\n",
    "print(\"Replacement done!\")\n",
    "        \n",
    "        \n",
    "        \n",
    "        \n",
    "        \n",
    "        \n",
    "        \n",
    "        \n",
    "        \n"
   ]
  },
  {
   "cell_type": "markdown",
   "metadata": {},
   "source": [
    "# Rerun spcat. now it has to correct .int and .var with correct tempts"
   ]
  },
  {
   "cell_type": "code",
   "execution_count": null,
   "metadata": {},
   "outputs": [],
   "source": [
    "#running spcat again\n",
    "#important to note that spcat names the result files based on .int name\n",
    "for i in range(length_list):\n",
    "    subprocess.Popen([\"spcat\", f\"{i}partFn.int\", f\"{i}.var\"])"
   ]
  },
  {
   "cell_type": "markdown",
   "metadata": {},
   "source": [
    "# Creation of qpart files\n"
   ]
  },
  {
   "cell_type": "markdown",
   "metadata": {},
   "source": [
    "finally, to use molsim, we use the qpart files. these just have the relevant temperature calcs. "
   ]
  },
  {
   "cell_type": "code",
   "execution_count": null,
   "metadata": {},
   "outputs": [],
   "source": [
    "#creates qpart files\n",
    "\n",
    "\n",
    "\n",
    "folder_path = '/path/to/above/tmc1-fd-2025' #i redefine this multiple times because i'm paranoid, not for any other particular reason\n",
    "\n",
    "\n",
    "\n",
    "listOfDicts=[]\n",
    "\n",
    "\n",
    "for i in range(length_list):\n",
    "    with open(f'{folder_path}/{i}partFn.out', 'r') as rd:\n",
    "        for line in rd:\n",
    "            if line ==\"TEMPERATURE - Q(SPIN-ROT.) - log Q(SPIN-ROT.)\\n\":\n",
    "                break\n",
    "                \n",
    "\n",
    "        tempList = [] \n",
    "        qList = []\n",
    "        for line in rd:\n",
    "            temp, Q, logQ = line.split()\n",
    "            tempList.append(temp)\n",
    "            qList.append(Q)\n",
    "            #print(type(tempList[0]))\n",
    "            #print(type(tempList))\n",
    "        #print(qList[1])\n",
    "        #print(qList)\n",
    "            \n",
    "            \n",
    "        with open(f'{folder_path}/{i}.qpart', 'w') as f: \n",
    "            f.write(\"#form : interpolation \\n\")\n",
    "            for k in range(len(tempList)):\n",
    "                f.write(tempList[k]+\"   \" + qList[k]+\"\\n\")\n",
    "            \n",
    "\n",
    "            \n",
    "            \n",
    "            "
   ]
  },
  {
   "cell_type": "markdown",
   "metadata": {},
   "source": []
  }
 ],
 "metadata": {
  "language_info": {
   "name": "python"
  }
 },
 "nbformat": 4,
 "nbformat_minor": 2
}
